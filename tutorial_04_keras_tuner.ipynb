{
 "cells": [
  {
   "cell_type": "markdown",
   "metadata": {
    "id": "Tce3stUlHN0L"
   },
   "source": [
    "##### Copyright 2020 The TensorFlow Authors."
   ]
  },
  {
   "cell_type": "code",
   "execution_count": 1,
   "metadata": {
    "cellView": "form",
    "execution": {
     "iopub.execute_input": "2022-01-26T07:36:44.909521Z",
     "iopub.status.busy": "2022-01-26T07:36:44.908933Z",
     "iopub.status.idle": "2022-01-26T07:36:44.911392Z",
     "shell.execute_reply": "2022-01-26T07:36:44.910854Z"
    },
    "id": "tuOe1ymfHZPu"
   },
   "outputs": [],
   "source": [
    "#@title Licensed under the Apache License, Version 2.0 (the \"License\");\n",
    "# you may not use this file except in compliance with the License.\n",
    "# You may obtain a copy of the License at\n",
    "#\n",
    "# https://www.apache.org/licenses/LICENSE-2.0\n",
    "#\n",
    "# Unless required by applicable law or agreed to in writing, software\n",
    "# distributed under the License is distributed on an \"AS IS\" BASIS,\n",
    "# WITHOUT WARRANTIES OR CONDITIONS OF ANY KIND, either express or implied.\n",
    "# See the License for the specific language governing permissions and\n",
    "# limitations under the License."
   ]
  },
  {
   "cell_type": "markdown",
   "metadata": {
    "id": "qFdPvlXBOdUN"
   },
   "source": [
    "# Introduction to the Keras Tuner"
   ]
  },
  {
   "cell_type": "markdown",
   "metadata": {
    "id": "MfBg1C5NB3X0"
   },
   "source": [
    "<table class=\"tfo-notebook-buttons\" align=\"left\">\n",
    "  <td>\n",
    "    <a target=\"_blank\" href=\"https://www.tensorflow.org/tutorials/keras/keras_tuner\"><img src=\"https://www.tensorflow.org/images/tf_logo_32px.png\" />View on TensorFlow.org</a>\n",
    "  </td>\n",
    "  <td>\n",
    "    <a target=\"_blank\" href=\"https://colab.research.google.com/github/tensorflow/docs/blob/master/site/en/tutorials/keras/keras_tuner.ipynb\"><img src=\"https://www.tensorflow.org/images/colab_logo_32px.png\" />Run in Google Colab</a>\n",
    "  </td>\n",
    "  <td>\n",
    "    <a target=\"_blank\" href=\"https://github.com/tensorflow/docs/blob/master/site/en/tutorials/keras/keras_tuner.ipynb\"><img src=\"https://www.tensorflow.org/images/GitHub-Mark-32px.png\" />View source on GitHub</a>\n",
    "  </td>\n",
    "  <td>\n",
    "    <a href=\"https://storage.googleapis.com/tensorflow_docs/docs/site/en/tutorials/keras/keras_tuner.ipynb\"><img src=\"https://www.tensorflow.org/images/download_logo_32px.png\" />Download notebook</a>\n",
    "  </td>\n",
    "</table>"
   ]
  },
  {
   "cell_type": "markdown",
   "metadata": {
    "id": "xHxb-dlhMIzW"
   },
   "source": [
    "## Overview\n",
    "\n",
    "The Keras Tuner is a library that helps you pick the optimal set of hyperparameters for your TensorFlow program. The process of selecting the right set of hyperparameters for your machine learning (ML) application is called *hyperparameter tuning* or *hypertuning*.\n",
    "\n",
    "Hyperparameters are the variables that govern the training process and the topology of an ML model. These variables remain constant over the training process and directly impact the performance of your ML program. Hyperparameters are of two types:\n",
    "1. **Model hyperparameters** which influence model selection such as the number and width of hidden layers\n",
    "2. **Algorithm hyperparameters** which influence the speed and quality of the learning algorithm such as the learning rate for Stochastic Gradient Descent (SGD) and the number of nearest neighbors for a k Nearest Neighbors (KNN) classifier\n",
    "\n",
    "In this tutorial, you will use the Keras Tuner to perform hypertuning for an image classification application."
   ]
  },
  {
   "cell_type": "markdown",
   "metadata": {
    "id": "MUXex9ctTuDB"
   },
   "source": [
    "## Setup"
   ]
  },
  {
   "cell_type": "code",
   "execution_count": 2,
   "metadata": {},
   "outputs": [],
   "source": [
    "import tensorflow as tf\n",
    "from tensorflow import keras"
   ]
  },
  {
   "cell_type": "markdown",
   "metadata": {
    "id": "g83Lwsy-Aq2_"
   },
   "source": [
    "Install and import the Keras Tuner."
   ]
  },
  {
   "cell_type": "code",
   "execution_count": 3,
   "metadata": {},
   "outputs": [],
   "source": [
    "!pip install -q -U keras-tuner"
   ]
  },
  {
   "cell_type": "code",
   "execution_count": 4,
   "metadata": {},
   "outputs": [],
   "source": [
    "import keras_tuner as kt"
   ]
  },
  {
   "cell_type": "markdown",
   "metadata": {
    "id": "ReV_UXOgCZvx"
   },
   "source": [
    "## Download and prepare the dataset\n",
    "\n",
    "In this tutorial, you will use the Keras Tuner to find the best hyperparameters for a machine learning model that classifies images of clothing from the [Fashion MNIST dataset](https://github.com/zalandoresearch/fashion-mnist)."
   ]
  },
  {
   "cell_type": "markdown",
   "metadata": {
    "id": "HljH_ENLEdHa"
   },
   "source": [
    "Load the data."
   ]
  },
  {
   "cell_type": "code",
   "execution_count": 5,
   "metadata": {},
   "outputs": [
    {
     "name": "stdout",
     "output_type": "stream",
     "text": [
      "Downloading data from https://storage.googleapis.com/tensorflow/tf-keras-datasets/train-labels-idx1-ubyte.gz\n",
      "32768/29515 [=================================] - 0s 0us/step\n",
      "40960/29515 [=========================================] - 0s 0us/step\n",
      "Downloading data from https://storage.googleapis.com/tensorflow/tf-keras-datasets/train-images-idx3-ubyte.gz\n",
      "26427392/26421880 [==============================] - 5s 0us/step\n",
      "26435584/26421880 [==============================] - 5s 0us/step\n",
      "Downloading data from https://storage.googleapis.com/tensorflow/tf-keras-datasets/t10k-labels-idx1-ubyte.gz\n",
      "16384/5148 [===============================================================================================] - 0s 0us/step\n",
      "Downloading data from https://storage.googleapis.com/tensorflow/tf-keras-datasets/t10k-images-idx3-ubyte.gz\n",
      "4423680/4422102 [==============================] - 1s 0us/step\n",
      "4431872/4422102 [==============================] - 1s 0us/step\n"
     ]
    }
   ],
   "source": [
    "(img_train, label_train), (img_test, label_test) = keras.datasets.fashion_mnist.load_data()"
   ]
  },
  {
   "cell_type": "code",
   "execution_count": 6,
   "metadata": {
    "execution": {
     "iopub.execute_input": "2022-01-26T07:37:04.603124Z",
     "iopub.status.busy": "2022-01-26T07:37:04.602513Z",
     "iopub.status.idle": "2022-01-26T07:37:04.680932Z",
     "shell.execute_reply": "2022-01-26T07:37:04.680352Z"
    },
    "id": "bLVhXs3xrUD0"
   },
   "outputs": [],
   "source": [
    "# Normalize pixel values between 0 and 1\n",
    "img_train = img_train.astype('float32') / 255.0\n",
    "img_test = img_test.astype('float32') / 255.0"
   ]
  },
  {
   "cell_type": "markdown",
   "metadata": {},
   "source": [
    "---\n",
    "---\n",
    "---\n",
    "---"
   ]
  },
  {
   "cell_type": "code",
   "execution_count": 8,
   "metadata": {},
   "outputs": [
    {
     "data": {
      "text/plain": [
       "(60000, 28, 28)"
      ]
     },
     "execution_count": 8,
     "metadata": {},
     "output_type": "execute_result"
    }
   ],
   "source": [
    "img_train.shape"
   ]
  },
  {
   "cell_type": "code",
   "execution_count": 10,
   "metadata": {},
   "outputs": [
    {
     "data": {
      "text/plain": [
       "(60000,)"
      ]
     },
     "execution_count": 10,
     "metadata": {},
     "output_type": "execute_result"
    }
   ],
   "source": [
    "label_train.shape"
   ]
  },
  {
   "cell_type": "markdown",
   "metadata": {},
   "source": [
    "---\n",
    "---\n",
    "---\n",
    "---"
   ]
  },
  {
   "cell_type": "markdown",
   "metadata": {
    "id": "K5YEL2H2Ax3e"
   },
   "source": [
    "## Define the model\n",
    "\n",
    "When you build a model for hypertuning, you also define the hyperparameter search space in addition to the model architecture. The model you set up for hypertuning is called a *hypermodel*.\n",
    "\n",
    "You can define a hypermodel through two approaches:\n",
    "\n",
    "* By using a model builder function\n",
    "* By subclassing the `HyperModel` class of the Keras Tuner API\n",
    "\n",
    "You can also use two pre-defined `HyperModel` classes - [HyperXception](https://keras-team.github.io/keras-tuner/documentation/hypermodels/#hyperxception-class) and [HyperResNet](https://keras-team.github.io/keras-tuner/documentation/hypermodels/#hyperresnet-class) for computer vision applications.\n",
    "\n",
    "In this tutorial, you use a model builder function to define the image classification model. The model builder function returns a compiled model and uses hyperparameters you define inline to hypertune the model."
   ]
  },
  {
   "cell_type": "code",
   "execution_count": 18,
   "metadata": {},
   "outputs": [],
   "source": [
    "def model_builder(hp):\n",
    "    model = keras.Sequential()\n",
    "    model.add(keras.layers.Flatten(input_shape=(28, 28)))\n",
    "    \n",
    "    # Tune the number of units in the first Dense layer\n",
    "    # Choose an optimal value between 32-512\n",
    "    hp_units = hp.Int('units', min_value=32, max_value=512, step=32)\n",
    "    model.add(keras.layers.Dense(units=hp_units, activation='relu'))\n",
    "    model.add(keras.layers.Dense(10))\n",
    "    \n",
    "    # Tune the learning rate for the optimizer\n",
    "    # Choose an optimal value from 0.01, 0.001, or 0.0001\n",
    "    hp_learning_rate = hp.Choice('learning_rate', values=[1e-2, 1e-3, 1e-4])\n",
    "    \n",
    "    model.compile(optimizer=keras.optimizers.Adam(learning_rate=hp_learning_rate),\n",
    "                 loss=keras.losses.SparseCategoricalCrossentropy(from_logits=True),\n",
    "                 metrics=['accuracy'])\n",
    "    \n",
    "    return model"
   ]
  },
  {
   "cell_type": "markdown",
   "metadata": {},
   "source": [
    "---\n",
    "---\n",
    "---\n",
    "---"
   ]
  },
  {
   "cell_type": "code",
   "execution_count": 22,
   "metadata": {},
   "outputs": [
    {
     "data": {
      "text/plain": [
       "<keras.engine.sequential.Sequential at 0x7fa1ff210850>"
      ]
     },
     "execution_count": 22,
     "metadata": {},
     "output_type": "execute_result"
    }
   ],
   "source": [
    "model_builder(kt.HyperParameters())"
   ]
  },
  {
   "cell_type": "code",
   "execution_count": 23,
   "metadata": {},
   "outputs": [
    {
     "data": {
      "text/plain": [
       "32"
      ]
     },
     "execution_count": 23,
     "metadata": {},
     "output_type": "execute_result"
    }
   ],
   "source": [
    "kt.HyperParameters().Int(name='units', min_value=32, max_value=512, step=32)"
   ]
  },
  {
   "cell_type": "code",
   "execution_count": 25,
   "metadata": {},
   "outputs": [
    {
     "data": {
      "text/plain": [
       "32"
      ]
     },
     "execution_count": 25,
     "metadata": {},
     "output_type": "execute_result"
    }
   ],
   "source": [
    "kt.HyperParameters().Int(name='units', min_value=32, max_value=512, step=1)"
   ]
  },
  {
   "cell_type": "code",
   "execution_count": 26,
   "metadata": {
    "scrolled": true
   },
   "outputs": [
    {
     "data": {
      "text/plain": [
       "128"
      ]
     },
     "execution_count": 26,
     "metadata": {},
     "output_type": "execute_result"
    }
   ],
   "source": [
    "kt.HyperParameters().Int(name='units', min_value=128, max_value=512, step=1)"
   ]
  },
  {
   "cell_type": "markdown",
   "metadata": {},
   "source": [
    "> - `kt.HyperParamters()` instance returns an integer value\n",
    "> - As a result, its documentation says it could be use in things like a for loop as well"
   ]
  },
  {
   "cell_type": "markdown",
   "metadata": {},
   "source": [
    "---\n",
    "---\n",
    "---\n",
    "---"
   ]
  },
  {
   "cell_type": "code",
   "execution_count": 12,
   "metadata": {
    "execution": {
     "iopub.execute_input": "2022-01-26T07:37:04.687734Z",
     "iopub.status.busy": "2022-01-26T07:37:04.687093Z",
     "iopub.status.idle": "2022-01-26T07:37:04.689022Z",
     "shell.execute_reply": "2022-01-26T07:37:04.688582Z"
    },
    "id": "ZQKodC-jtsva"
   },
   "outputs": [],
   "source": [
    "# def model_builder(hp):\n",
    "#   model = keras.Sequential()\n",
    "#   model.add(keras.layers.Flatten(input_shape=(28, 28)))\n",
    "\n",
    "#   # Tune the number of units in the first Dense layer\n",
    "#   # Choose an optimal value between 32-512\n",
    "#   hp_units = hp.Int('units', min_value=32, max_value=512, step=32)\n",
    "#   model.add(keras.layers.Dense(units=hp_units, activation='relu'))\n",
    "#   model.add(keras.layers.Dense(10))\n",
    "\n",
    "#   # Tune the learning rate for the optimizer\n",
    "#   # Choose an optimal value from 0.01, 0.001, or 0.0001\n",
    "#   hp_learning_rate = hp.Choice('learning_rate', values=[1e-2, 1e-3, 1e-4])\n",
    "\n",
    "#   model.compile(optimizer=keras.optimizers.Adam(learning_rate=hp_learning_rate),\n",
    "#                 loss=keras.losses.SparseCategoricalCrossentropy(from_logits=True),\n",
    "#                 metrics=['accuracy'])\n",
    "\n",
    "#   return model"
   ]
  },
  {
   "cell_type": "markdown",
   "metadata": {
    "id": "0J1VYw4q3x0b"
   },
   "source": [
    "## Instantiate the tuner and perform hypertuning\n",
    "\n",
    "Instantiate the tuner to perform the hypertuning. The Keras Tuner has four tuners available - `RandomSearch`, `Hyperband`, `BayesianOptimization`, and `Sklearn`. In this tutorial, you use the [Hyperband](https://arxiv.org/pdf/1603.06560.pdf) tuner.\n",
    "\n",
    "To instantiate the Hyperband tuner, you must specify the hypermodel, the `objective` to optimize and the maximum number of epochs to train (`max_epochs`)."
   ]
  },
  {
   "cell_type": "code",
   "execution_count": 19,
   "metadata": {},
   "outputs": [],
   "source": [
    "tuner = kt.Hyperband(model_builder,\n",
    "                    objective='val_accuracy',\n",
    "                    max_epochs=10,\n",
    "                    factor=3,\n",
    "                    directory='my_dir',\n",
    "                    project_name='intro_to_kt')"
   ]
  },
  {
   "cell_type": "code",
   "execution_count": 8,
   "metadata": {
    "execution": {
     "iopub.execute_input": "2022-01-26T07:37:04.694067Z",
     "iopub.status.busy": "2022-01-26T07:37:04.693516Z",
     "iopub.status.idle": "2022-01-26T07:37:06.293619Z",
     "shell.execute_reply": "2022-01-26T07:37:06.293088Z"
    },
    "id": "oichQFly6Y46"
   },
   "outputs": [],
   "source": [
    "# tuner = kt.Hyperband(model_builder,\n",
    "#                      objective='val_accuracy',\n",
    "#                      max_epochs=10,\n",
    "#                      factor=3,\n",
    "#                      directory='my_dir',\n",
    "#                      project_name='intro_to_kt')"
   ]
  },
  {
   "cell_type": "markdown",
   "metadata": {
    "id": "VaIhhdKf9VtI"
   },
   "source": [
    "The Hyperband tuning algorithm uses adaptive resource allocation and early-stopping to quickly converge on a high-performing model. This is done using a sports championship style bracket. The algorithm trains a large number of models for a few epochs and carries forward only the top-performing half of models to the next round. Hyperband determines the number of models to train in a bracket by computing 1 + log<sub>`factor`</sub>(`max_epochs`) and rounding it up to the nearest integer."
   ]
  },
  {
   "cell_type": "markdown",
   "metadata": {
    "id": "cwhBdXx0Ekj8"
   },
   "source": [
    "Create a callback to stop training early after reaching a certain value for the validation loss."
   ]
  },
  {
   "cell_type": "code",
   "execution_count": 20,
   "metadata": {},
   "outputs": [],
   "source": [
    "stop_early = tf.keras.callbacks.EarlyStopping(monitor='val_loss', patience=5)"
   ]
  },
  {
   "cell_type": "markdown",
   "metadata": {
    "id": "UKghEo15Tduy"
   },
   "source": [
    "Run the hyperparameter search. The arguments for the search method are the same as those used for `tf.keras.model.fit` in addition to the callback above."
   ]
  },
  {
   "cell_type": "code",
   "execution_count": 21,
   "metadata": {},
   "outputs": [
    {
     "name": "stdout",
     "output_type": "stream",
     "text": [
      "Trial 30 Complete [00h 00m 58s]\n",
      "val_accuracy: 0.8928333520889282\n",
      "\n",
      "Best val_accuracy So Far: 0.8928333520889282\n",
      "Total elapsed time: 00h 09m 44s\n",
      "INFO:tensorflow:Oracle triggered exit\n",
      "\n",
      "The hyperparameter search is complete. The optimal number of units in the first densely-connected\n",
      "layer is 448 and the optimal learning rate for the optimizer\n",
      "is 0.001.\n",
      "\n"
     ]
    }
   ],
   "source": [
    "tuner.search(img_train,\n",
    "            label_train,\n",
    "            epochs=50,\n",
    "            validation_split=0.2,\n",
    "            callbacks=[stop_early])\n",
    "\n",
    "# Get the optimal hyperparameters\n",
    "best_hps = tuner.get_best_hyperparameters(num_trials=1)[0]\n",
    "\n",
    "print(f\"\"\"\n",
    "The hyperparameter search is complete. The optimal number of units in the first densely-connected\n",
    "layer is {best_hps.get('units')} and the optimal learning rate for the optimizer\n",
    "is {best_hps.get('learning_rate')}.\n",
    "\"\"\")"
   ]
  },
  {
   "cell_type": "code",
   "execution_count": 10,
   "metadata": {
    "execution": {
     "iopub.execute_input": "2022-01-26T07:37:06.304894Z",
     "iopub.status.busy": "2022-01-26T07:37:06.304338Z",
     "iopub.status.idle": "2022-01-26T07:44:32.579962Z",
     "shell.execute_reply": "2022-01-26T07:44:32.580349Z"
    },
    "id": "dSBQcTHF9cKt"
   },
   "outputs": [
    {
     "name": "stdout",
     "output_type": "stream",
     "text": [
      "Trial 30 Complete [00h 00m 35s]\n",
      "val_accuracy: 0.8925833106040955\n",
      "\n",
      "Best val_accuracy So Far: 0.8925833106040955\n",
      "Total elapsed time: 00h 07m 26s\n",
      "INFO:tensorflow:Oracle triggered exit\n",
      "\n",
      "The hyperparameter search is complete. The optimal number of units in the first densely-connected\n",
      "layer is 320 and the optimal learning rate for the optimizer\n",
      "is 0.001.\n",
      "\n"
     ]
    }
   ],
   "source": [
    "# tuner.search(img_train, label_train, epochs=50, validation_split=0.2, callbacks=[stop_early])\n",
    "\n",
    "# # Get the optimal hyperparameters\n",
    "# best_hps=tuner.get_best_hyperparameters(num_trials=1)[0]\n",
    "\n",
    "# print(f\"\"\"\n",
    "# The hyperparameter search is complete. The optimal number of units in the first densely-connected\n",
    "# layer is {best_hps.get('units')} and the optimal learning rate for the optimizer\n",
    "# is {best_hps.get('learning_rate')}.\n",
    "# \"\"\")"
   ]
  },
  {
   "cell_type": "markdown",
   "metadata": {},
   "source": [
    "> **Let's understand what is going on here...**\n",
    "> - Things to understand\n",
    ">   - what is `hp` argument passed in `model_builder` function?\n",
    "      - https://keras.io/guides/keras_tuner/getting_started/\n",
    "      - it seems like `hp`is `kt.HyperParamteres()` instance and it defines the hyperparameters while building a model\n",
    ">   - what is `kt.Hyperband()`, and why does it have `model_builder` as an argument?\n",
    "      - https://keras.io/api/keras_tuner/tuners/hyperband/\n",
    "      - basically, we just defined the '`search space` before calling `kt.Hyperband()`, which is one of the algorithms we could choose for the hyperparamter tuning\n",
    ">   - what does `tuner.search()` do?\n",
    "      - It performs searching using the algorithm I've defined above\n",
    "      - All the arguments passed to search is passed to `model.fit()` in each execution\n"
   ]
  },
  {
   "cell_type": "markdown",
   "metadata": {
    "id": "Lak_ylf88xBv"
   },
   "source": [
    "## Train the model\n",
    "\n",
    "Find the optimal number of epochs to train the model with the hyperparameters obtained from the search."
   ]
  },
  {
   "cell_type": "code",
   "execution_count": 28,
   "metadata": {
    "execution": {
     "iopub.execute_input": "2022-01-26T07:44:32.585889Z",
     "iopub.status.busy": "2022-01-26T07:44:32.585289Z",
     "iopub.status.idle": "2022-01-26T07:47:21.513069Z",
     "shell.execute_reply": "2022-01-26T07:47:21.513448Z"
    },
    "id": "McO82AXOuxXh"
   },
   "outputs": [
    {
     "name": "stdout",
     "output_type": "stream",
     "text": [
      "Epoch 1/50\n",
      "WARNING:tensorflow:AutoGraph could not transform <function Model.make_train_function.<locals>.train_function at 0x7fa1ff184d40> and will run it as-is.\n",
      "Please report this to the TensorFlow team. When filing the bug, set the verbosity to 10 (on Linux, `export AUTOGRAPH_VERBOSITY=10`) and attach the full output.\n",
      "Cause: 'arguments' object has no attribute 'posonlyargs'\n",
      "To silence this warning, decorate the function with @tf.autograph.experimental.do_not_convert\n",
      "WARNING: AutoGraph could not transform <function Model.make_train_function.<locals>.train_function at 0x7fa1ff184d40> and will run it as-is.\n",
      "Please report this to the TensorFlow team. When filing the bug, set the verbosity to 10 (on Linux, `export AUTOGRAPH_VERBOSITY=10`) and attach the full output.\n",
      "Cause: 'arguments' object has no attribute 'posonlyargs'\n",
      "To silence this warning, decorate the function with @tf.autograph.experimental.do_not_convert\n",
      "1499/1500 [============================>.] - ETA: 0s - loss: 0.4937 - accuracy: 0.8238WARNING:tensorflow:AutoGraph could not transform <function Model.make_test_function.<locals>.test_function at 0x7fa1ff6a0170> and will run it as-is.\n",
      "Please report this to the TensorFlow team. When filing the bug, set the verbosity to 10 (on Linux, `export AUTOGRAPH_VERBOSITY=10`) and attach the full output.\n",
      "Cause: 'arguments' object has no attribute 'posonlyargs'\n",
      "To silence this warning, decorate the function with @tf.autograph.experimental.do_not_convert\n",
      "WARNING: AutoGraph could not transform <function Model.make_test_function.<locals>.test_function at 0x7fa1ff6a0170> and will run it as-is.\n",
      "Please report this to the TensorFlow team. When filing the bug, set the verbosity to 10 (on Linux, `export AUTOGRAPH_VERBOSITY=10`) and attach the full output.\n",
      "Cause: 'arguments' object has no attribute 'posonlyargs'\n",
      "To silence this warning, decorate the function with @tf.autograph.experimental.do_not_convert\n",
      "1500/1500 [==============================] - 6s 4ms/step - loss: 0.4936 - accuracy: 0.8238 - val_loss: 0.3866 - val_accuracy: 0.8607\n",
      "Epoch 2/50\n",
      "1500/1500 [==============================] - 6s 4ms/step - loss: 0.3681 - accuracy: 0.8646 - val_loss: 0.3557 - val_accuracy: 0.8716\n",
      "Epoch 3/50\n",
      "1500/1500 [==============================] - 5s 4ms/step - loss: 0.3310 - accuracy: 0.8773 - val_loss: 0.3587 - val_accuracy: 0.8721\n",
      "Epoch 4/50\n",
      "1500/1500 [==============================] - 6s 4ms/step - loss: 0.3067 - accuracy: 0.8858 - val_loss: 0.3380 - val_accuracy: 0.8811\n",
      "Epoch 5/50\n",
      "1500/1500 [==============================] - 6s 4ms/step - loss: 0.2876 - accuracy: 0.8936 - val_loss: 0.3395 - val_accuracy: 0.8788\n",
      "Epoch 6/50\n",
      "1500/1500 [==============================] - 5s 4ms/step - loss: 0.2719 - accuracy: 0.8981 - val_loss: 0.3366 - val_accuracy: 0.8803\n",
      "Epoch 7/50\n",
      "1500/1500 [==============================] - 5s 3ms/step - loss: 0.2590 - accuracy: 0.9041 - val_loss: 0.3261 - val_accuracy: 0.8852\n",
      "Epoch 8/50\n",
      "1500/1500 [==============================] - 5s 3ms/step - loss: 0.2463 - accuracy: 0.9084 - val_loss: 0.3171 - val_accuracy: 0.8863\n",
      "Epoch 9/50\n",
      "1500/1500 [==============================] - 6s 4ms/step - loss: 0.2366 - accuracy: 0.9115 - val_loss: 0.3168 - val_accuracy: 0.8864\n",
      "Epoch 10/50\n",
      "1500/1500 [==============================] - 6s 4ms/step - loss: 0.2238 - accuracy: 0.9165 - val_loss: 0.3361 - val_accuracy: 0.8848\n",
      "Epoch 11/50\n",
      "1500/1500 [==============================] - 5s 4ms/step - loss: 0.2158 - accuracy: 0.9189 - val_loss: 0.3211 - val_accuracy: 0.8898\n",
      "Epoch 12/50\n",
      "1500/1500 [==============================] - 5s 3ms/step - loss: 0.2066 - accuracy: 0.9222 - val_loss: 0.3309 - val_accuracy: 0.8836\n",
      "Epoch 13/50\n",
      "1500/1500 [==============================] - 6s 4ms/step - loss: 0.1996 - accuracy: 0.9245 - val_loss: 0.3318 - val_accuracy: 0.8926\n",
      "Epoch 14/50\n",
      "1500/1500 [==============================] - 5s 4ms/step - loss: 0.1942 - accuracy: 0.9269 - val_loss: 0.3247 - val_accuracy: 0.8913\n",
      "Epoch 15/50\n",
      "1500/1500 [==============================] - 5s 3ms/step - loss: 0.1852 - accuracy: 0.9292 - val_loss: 0.3199 - val_accuracy: 0.8968\n",
      "Epoch 16/50\n",
      "1500/1500 [==============================] - 5s 3ms/step - loss: 0.1794 - accuracy: 0.9312 - val_loss: 0.3316 - val_accuracy: 0.8919\n",
      "Epoch 17/50\n",
      "1500/1500 [==============================] - 5s 3ms/step - loss: 0.1747 - accuracy: 0.9346 - val_loss: 0.3464 - val_accuracy: 0.8892\n",
      "Epoch 18/50\n",
      "1500/1500 [==============================] - 5s 3ms/step - loss: 0.1689 - accuracy: 0.9368 - val_loss: 0.3558 - val_accuracy: 0.8904\n",
      "Epoch 19/50\n",
      "1500/1500 [==============================] - 5s 3ms/step - loss: 0.1636 - accuracy: 0.9376 - val_loss: 0.3407 - val_accuracy: 0.8957\n",
      "Epoch 20/50\n",
      "1500/1500 [==============================] - 5s 4ms/step - loss: 0.1577 - accuracy: 0.9406 - val_loss: 0.3488 - val_accuracy: 0.8943\n",
      "Epoch 21/50\n",
      "1500/1500 [==============================] - 5s 4ms/step - loss: 0.1540 - accuracy: 0.9426 - val_loss: 0.3722 - val_accuracy: 0.8864\n",
      "Epoch 22/50\n",
      "1500/1500 [==============================] - 5s 3ms/step - loss: 0.1495 - accuracy: 0.9438 - val_loss: 0.3608 - val_accuracy: 0.8926\n",
      "Epoch 23/50\n",
      "1500/1500 [==============================] - 6s 4ms/step - loss: 0.1443 - accuracy: 0.9468 - val_loss: 0.3887 - val_accuracy: 0.8864\n",
      "Epoch 24/50\n",
      "1500/1500 [==============================] - 6s 4ms/step - loss: 0.1414 - accuracy: 0.9473 - val_loss: 0.3494 - val_accuracy: 0.8988\n",
      "Epoch 25/50\n",
      "1500/1500 [==============================] - 6s 4ms/step - loss: 0.1350 - accuracy: 0.9501 - val_loss: 0.3783 - val_accuracy: 0.8899\n",
      "Epoch 26/50\n",
      "1500/1500 [==============================] - 6s 4ms/step - loss: 0.1347 - accuracy: 0.9498 - val_loss: 0.3624 - val_accuracy: 0.8965\n",
      "Epoch 27/50\n",
      "1500/1500 [==============================] - 6s 4ms/step - loss: 0.1287 - accuracy: 0.9519 - val_loss: 0.3837 - val_accuracy: 0.8913\n",
      "Epoch 28/50\n",
      "1500/1500 [==============================] - 6s 4ms/step - loss: 0.1224 - accuracy: 0.9547 - val_loss: 0.3903 - val_accuracy: 0.8911\n",
      "Epoch 29/50\n",
      "1500/1500 [==============================] - 6s 4ms/step - loss: 0.1189 - accuracy: 0.9556 - val_loss: 0.3975 - val_accuracy: 0.8950\n",
      "Epoch 30/50\n",
      "1500/1500 [==============================] - 6s 4ms/step - loss: 0.1204 - accuracy: 0.9540 - val_loss: 0.3941 - val_accuracy: 0.8986\n",
      "Epoch 31/50\n",
      "1500/1500 [==============================] - 6s 4ms/step - loss: 0.1172 - accuracy: 0.9565 - val_loss: 0.4011 - val_accuracy: 0.8895\n",
      "Epoch 32/50\n",
      "1500/1500 [==============================] - 5s 4ms/step - loss: 0.1115 - accuracy: 0.9575 - val_loss: 0.4097 - val_accuracy: 0.8946\n",
      "Epoch 33/50\n",
      "1500/1500 [==============================] - 6s 4ms/step - loss: 0.1101 - accuracy: 0.9585 - val_loss: 0.4220 - val_accuracy: 0.8932\n",
      "Epoch 34/50\n",
      "1500/1500 [==============================] - 5s 4ms/step - loss: 0.1061 - accuracy: 0.9609 - val_loss: 0.4090 - val_accuracy: 0.8938\n",
      "Epoch 35/50\n",
      "1500/1500 [==============================] - 5s 4ms/step - loss: 0.1023 - accuracy: 0.9616 - val_loss: 0.4153 - val_accuracy: 0.8940\n",
      "Epoch 36/50\n",
      "1500/1500 [==============================] - 5s 4ms/step - loss: 0.1026 - accuracy: 0.9620 - val_loss: 0.4253 - val_accuracy: 0.8939\n",
      "Epoch 37/50\n",
      "1500/1500 [==============================] - 6s 4ms/step - loss: 0.0980 - accuracy: 0.9639 - val_loss: 0.4567 - val_accuracy: 0.8927\n",
      "Epoch 38/50\n",
      "1500/1500 [==============================] - 5s 4ms/step - loss: 0.0956 - accuracy: 0.9646 - val_loss: 0.4313 - val_accuracy: 0.8992\n",
      "Epoch 39/50\n",
      "1500/1500 [==============================] - 5s 4ms/step - loss: 0.0978 - accuracy: 0.9635 - val_loss: 0.4518 - val_accuracy: 0.8941\n",
      "Epoch 40/50\n",
      "1500/1500 [==============================] - 5s 4ms/step - loss: 0.0915 - accuracy: 0.9647 - val_loss: 0.5022 - val_accuracy: 0.8886\n",
      "Epoch 41/50\n",
      "1500/1500 [==============================] - 6s 4ms/step - loss: 0.0894 - accuracy: 0.9671 - val_loss: 0.4648 - val_accuracy: 0.8962\n",
      "Epoch 42/50\n",
      "1500/1500 [==============================] - 5s 4ms/step - loss: 0.0894 - accuracy: 0.9667 - val_loss: 0.4719 - val_accuracy: 0.8932\n",
      "Epoch 43/50\n",
      "1500/1500 [==============================] - 6s 4ms/step - loss: 0.0865 - accuracy: 0.9671 - val_loss: 0.4834 - val_accuracy: 0.8971\n",
      "Epoch 44/50\n"
     ]
    },
    {
     "name": "stdout",
     "output_type": "stream",
     "text": [
      "1500/1500 [==============================] - 6s 4ms/step - loss: 0.0872 - accuracy: 0.9666 - val_loss: 0.5085 - val_accuracy: 0.8913\n",
      "Epoch 45/50\n",
      "1500/1500 [==============================] - 5s 4ms/step - loss: 0.0841 - accuracy: 0.9691 - val_loss: 0.5360 - val_accuracy: 0.8848\n",
      "Epoch 46/50\n",
      "1500/1500 [==============================] - 5s 4ms/step - loss: 0.0813 - accuracy: 0.9696 - val_loss: 0.4910 - val_accuracy: 0.8986\n",
      "Epoch 47/50\n",
      "1500/1500 [==============================] - 5s 4ms/step - loss: 0.0845 - accuracy: 0.9685 - val_loss: 0.4921 - val_accuracy: 0.8914\n",
      "Epoch 48/50\n",
      "1500/1500 [==============================] - 5s 4ms/step - loss: 0.0722 - accuracy: 0.9731 - val_loss: 0.5225 - val_accuracy: 0.8952\n",
      "Epoch 49/50\n",
      "1500/1500 [==============================] - 6s 4ms/step - loss: 0.0789 - accuracy: 0.9705 - val_loss: 0.4881 - val_accuracy: 0.8985\n",
      "Epoch 50/50\n",
      "1500/1500 [==============================] - 6s 4ms/step - loss: 0.0775 - accuracy: 0.9716 - val_loss: 0.5087 - val_accuracy: 0.8963\n",
      "Best epoch: 38\n"
     ]
    }
   ],
   "source": [
    "# Build the model with the optimal hyperparameters and train it on the data for 50 epochs\n",
    "model = tuner.hypermodel.build(best_hps)\n",
    "history = model.fit(img_train, label_train, epochs=50, validation_split=0.2)\n",
    "\n",
    "val_acc_per_epoch = history.history['val_accuracy']\n",
    "best_epoch = val_acc_per_epoch.index(max(val_acc_per_epoch)) + 1\n",
    "print('Best epoch: %d' % (best_epoch,))"
   ]
  },
  {
   "cell_type": "markdown",
   "metadata": {},
   "source": [
    "---\n",
    "---\n",
    "---\n",
    "---"
   ]
  },
  {
   "cell_type": "code",
   "execution_count": 32,
   "metadata": {},
   "outputs": [
    {
     "name": "stdout",
     "output_type": "stream",
     "text": [
      "50\n"
     ]
    },
    {
     "data": {
      "text/plain": [
       "[0.8606666922569275, 0.8715833425521851, 0.872083306312561]"
      ]
     },
     "execution_count": 32,
     "metadata": {},
     "output_type": "execute_result"
    }
   ],
   "source": [
    "print(len(val_acc_per_epoch))\n",
    "val_acc_per_epoch[:3]"
   ]
  },
  {
   "cell_type": "code",
   "execution_count": 33,
   "metadata": {},
   "outputs": [
    {
     "data": {
      "text/plain": [
       "0.8991666436195374"
      ]
     },
     "execution_count": 33,
     "metadata": {},
     "output_type": "execute_result"
    }
   ],
   "source": [
    "max(val_acc_per_epoch)"
   ]
  },
  {
   "cell_type": "code",
   "execution_count": 34,
   "metadata": {},
   "outputs": [
    {
     "data": {
      "text/plain": [
       "37"
      ]
     },
     "execution_count": 34,
     "metadata": {},
     "output_type": "execute_result"
    }
   ],
   "source": [
    "val_acc_per_epoch.index(max(val_acc_per_epoch))"
   ]
  },
  {
   "cell_type": "markdown",
   "metadata": {},
   "source": [
    "---\n",
    "---\n",
    "---\n",
    "---"
   ]
  },
  {
   "cell_type": "markdown",
   "metadata": {},
   "source": [
    "> - Why does it try to get a `best_epoch`, when it is only the latest epoch we did on the training?\n",
    "    - It seems obvious that the last epoch would be probably the best epoch when it comes to the val_accuracy\n",
    "    - However, what it assumes underneath is that val_accuracy could go up and down and could converge earlier than the last epoch and would eventually get worse after a certain point of the training due to overfitting\n",
    "    - And by this we could note that even if given the hyperparameters, **it could work best until a certain epoch**"
   ]
  },
  {
   "cell_type": "markdown",
   "metadata": {
    "id": "uOTSirSTI3Gp"
   },
   "source": [
    "Re-instantiate the hypermodel and train it with the optimal number of epochs from above."
   ]
  },
  {
   "cell_type": "code",
   "execution_count": 29,
   "metadata": {
    "execution": {
     "iopub.execute_input": "2022-01-26T07:47:21.519168Z",
     "iopub.status.busy": "2022-01-26T07:47:21.518592Z",
     "iopub.status.idle": "2022-01-26T07:50:13.226922Z",
     "shell.execute_reply": "2022-01-26T07:50:13.227343Z"
    },
    "id": "NoiPUEHmMhCe"
   },
   "outputs": [
    {
     "name": "stdout",
     "output_type": "stream",
     "text": [
      "Epoch 1/38\n",
      "WARNING:tensorflow:AutoGraph could not transform <function Model.make_train_function.<locals>.train_function at 0x7fa1ff9d6c20> and will run it as-is.\n",
      "Please report this to the TensorFlow team. When filing the bug, set the verbosity to 10 (on Linux, `export AUTOGRAPH_VERBOSITY=10`) and attach the full output.\n",
      "Cause: 'arguments' object has no attribute 'posonlyargs'\n",
      "To silence this warning, decorate the function with @tf.autograph.experimental.do_not_convert\n",
      "WARNING: AutoGraph could not transform <function Model.make_train_function.<locals>.train_function at 0x7fa1ff9d6c20> and will run it as-is.\n",
      "Please report this to the TensorFlow team. When filing the bug, set the verbosity to 10 (on Linux, `export AUTOGRAPH_VERBOSITY=10`) and attach the full output.\n",
      "Cause: 'arguments' object has no attribute 'posonlyargs'\n",
      "To silence this warning, decorate the function with @tf.autograph.experimental.do_not_convert\n",
      "1497/1500 [============================>.] - ETA: 0s - loss: 0.4972 - accuracy: 0.8221WARNING:tensorflow:AutoGraph could not transform <function Model.make_test_function.<locals>.test_function at 0x7fa200559560> and will run it as-is.\n",
      "Please report this to the TensorFlow team. When filing the bug, set the verbosity to 10 (on Linux, `export AUTOGRAPH_VERBOSITY=10`) and attach the full output.\n",
      "Cause: 'arguments' object has no attribute 'posonlyargs'\n",
      "To silence this warning, decorate the function with @tf.autograph.experimental.do_not_convert\n",
      "WARNING: AutoGraph could not transform <function Model.make_test_function.<locals>.test_function at 0x7fa200559560> and will run it as-is.\n",
      "Please report this to the TensorFlow team. When filing the bug, set the verbosity to 10 (on Linux, `export AUTOGRAPH_VERBOSITY=10`) and attach the full output.\n",
      "Cause: 'arguments' object has no attribute 'posonlyargs'\n",
      "To silence this warning, decorate the function with @tf.autograph.experimental.do_not_convert\n",
      "1500/1500 [==============================] - 6s 4ms/step - loss: 0.4970 - accuracy: 0.8222 - val_loss: 0.4082 - val_accuracy: 0.8495\n",
      "Epoch 2/38\n",
      "1500/1500 [==============================] - 6s 4ms/step - loss: 0.3687 - accuracy: 0.8659 - val_loss: 0.3574 - val_accuracy: 0.8692\n",
      "Epoch 3/38\n",
      "1500/1500 [==============================] - 6s 4ms/step - loss: 0.3303 - accuracy: 0.8784 - val_loss: 0.3500 - val_accuracy: 0.8753\n",
      "Epoch 4/38\n",
      "1500/1500 [==============================] - 6s 4ms/step - loss: 0.3050 - accuracy: 0.8868 - val_loss: 0.3366 - val_accuracy: 0.8786\n",
      "Epoch 5/38\n",
      "1500/1500 [==============================] - 7s 5ms/step - loss: 0.2846 - accuracy: 0.8948 - val_loss: 0.3215 - val_accuracy: 0.8827\n",
      "Epoch 6/38\n",
      "1500/1500 [==============================] - 6s 4ms/step - loss: 0.2693 - accuracy: 0.8997 - val_loss: 0.3659 - val_accuracy: 0.8698\n",
      "Epoch 7/38\n",
      "1500/1500 [==============================] - 6s 4ms/step - loss: 0.2598 - accuracy: 0.9033 - val_loss: 0.3070 - val_accuracy: 0.8897\n",
      "Epoch 8/38\n",
      "1500/1500 [==============================] - 5s 4ms/step - loss: 0.2444 - accuracy: 0.9091 - val_loss: 0.3061 - val_accuracy: 0.8942\n",
      "Epoch 9/38\n",
      "1500/1500 [==============================] - 6s 4ms/step - loss: 0.2363 - accuracy: 0.9110 - val_loss: 0.3252 - val_accuracy: 0.8862\n",
      "Epoch 10/38\n",
      "1500/1500 [==============================] - 7s 4ms/step - loss: 0.2261 - accuracy: 0.9144 - val_loss: 0.3281 - val_accuracy: 0.8844\n",
      "Epoch 11/38\n",
      "1500/1500 [==============================] - 6s 4ms/step - loss: 0.2162 - accuracy: 0.9181 - val_loss: 0.3170 - val_accuracy: 0.8860\n",
      "Epoch 12/38\n",
      "1500/1500 [==============================] - 6s 4ms/step - loss: 0.2059 - accuracy: 0.9212 - val_loss: 0.3197 - val_accuracy: 0.8903\n",
      "Epoch 13/38\n",
      "1500/1500 [==============================] - 7s 5ms/step - loss: 0.2002 - accuracy: 0.9250 - val_loss: 0.3379 - val_accuracy: 0.8884\n",
      "Epoch 14/38\n",
      "1500/1500 [==============================] - 6s 4ms/step - loss: 0.1942 - accuracy: 0.9259 - val_loss: 0.3264 - val_accuracy: 0.8914\n",
      "Epoch 15/38\n",
      "1500/1500 [==============================] - 6s 4ms/step - loss: 0.1864 - accuracy: 0.9298 - val_loss: 0.3348 - val_accuracy: 0.8916\n",
      "Epoch 16/38\n",
      "1500/1500 [==============================] - 6s 4ms/step - loss: 0.1787 - accuracy: 0.9330 - val_loss: 0.3431 - val_accuracy: 0.8875\n",
      "Epoch 17/38\n",
      "1500/1500 [==============================] - 6s 4ms/step - loss: 0.1742 - accuracy: 0.9355 - val_loss: 0.3236 - val_accuracy: 0.8939\n",
      "Epoch 18/38\n",
      "1500/1500 [==============================] - 6s 4ms/step - loss: 0.1668 - accuracy: 0.9377 - val_loss: 0.3458 - val_accuracy: 0.8925\n",
      "Epoch 19/38\n",
      "1500/1500 [==============================] - 6s 4ms/step - loss: 0.1648 - accuracy: 0.9384 - val_loss: 0.3308 - val_accuracy: 0.8942\n",
      "Epoch 20/38\n",
      "1500/1500 [==============================] - 5s 4ms/step - loss: 0.1589 - accuracy: 0.9407 - val_loss: 0.3367 - val_accuracy: 0.8952\n",
      "Epoch 21/38\n",
      "1500/1500 [==============================] - 6s 4ms/step - loss: 0.1523 - accuracy: 0.9429 - val_loss: 0.3527 - val_accuracy: 0.8939\n",
      "Epoch 22/38\n",
      "1500/1500 [==============================] - 6s 4ms/step - loss: 0.1495 - accuracy: 0.9433 - val_loss: 0.3784 - val_accuracy: 0.8864\n",
      "Epoch 23/38\n",
      "1500/1500 [==============================] - 6s 4ms/step - loss: 0.1463 - accuracy: 0.9450 - val_loss: 0.3387 - val_accuracy: 0.9003\n",
      "Epoch 24/38\n",
      "1500/1500 [==============================] - 7s 5ms/step - loss: 0.1386 - accuracy: 0.9482 - val_loss: 0.3815 - val_accuracy: 0.8901\n",
      "Epoch 25/38\n",
      "1500/1500 [==============================] - 9s 6ms/step - loss: 0.1376 - accuracy: 0.9482 - val_loss: 0.4019 - val_accuracy: 0.8879\n",
      "Epoch 26/38\n",
      "1500/1500 [==============================] - 7s 5ms/step - loss: 0.1330 - accuracy: 0.9499 - val_loss: 0.3685 - val_accuracy: 0.8978\n",
      "Epoch 27/38\n",
      "1500/1500 [==============================] - 6s 4ms/step - loss: 0.1283 - accuracy: 0.9515 - val_loss: 0.3724 - val_accuracy: 0.8988\n",
      "Epoch 28/38\n",
      "1500/1500 [==============================] - 6s 4ms/step - loss: 0.1256 - accuracy: 0.9526 - val_loss: 0.3633 - val_accuracy: 0.8988\n",
      "Epoch 29/38\n",
      "1500/1500 [==============================] - 6s 4ms/step - loss: 0.1222 - accuracy: 0.9540 - val_loss: 0.4141 - val_accuracy: 0.8913\n",
      "Epoch 30/38\n",
      "1500/1500 [==============================] - 6s 4ms/step - loss: 0.1177 - accuracy: 0.9563 - val_loss: 0.4018 - val_accuracy: 0.8927\n",
      "Epoch 31/38\n",
      "1500/1500 [==============================] - 6s 4ms/step - loss: 0.1171 - accuracy: 0.9563 - val_loss: 0.4234 - val_accuracy: 0.8882\n",
      "Epoch 32/38\n",
      "1500/1500 [==============================] - 6s 4ms/step - loss: 0.1123 - accuracy: 0.9578 - val_loss: 0.4351 - val_accuracy: 0.8935\n",
      "Epoch 33/38\n",
      "1500/1500 [==============================] - 6s 4ms/step - loss: 0.1091 - accuracy: 0.9589 - val_loss: 0.4272 - val_accuracy: 0.8932\n",
      "Epoch 34/38\n",
      "1500/1500 [==============================] - 6s 4ms/step - loss: 0.1071 - accuracy: 0.9593 - val_loss: 0.4282 - val_accuracy: 0.8941\n",
      "Epoch 35/38\n",
      "1500/1500 [==============================] - 6s 4ms/step - loss: 0.1061 - accuracy: 0.9603 - val_loss: 0.4631 - val_accuracy: 0.8901\n",
      "Epoch 36/38\n",
      "1500/1500 [==============================] - 6s 4ms/step - loss: 0.1027 - accuracy: 0.9606 - val_loss: 0.4401 - val_accuracy: 0.8957\n",
      "Epoch 37/38\n",
      "1500/1500 [==============================] - 6s 4ms/step - loss: 0.0999 - accuracy: 0.9623 - val_loss: 0.4672 - val_accuracy: 0.8898\n",
      "Epoch 38/38\n",
      "1500/1500 [==============================] - 9s 6ms/step - loss: 0.0977 - accuracy: 0.9637 - val_loss: 0.4452 - val_accuracy: 0.8970\n"
     ]
    },
    {
     "data": {
      "text/plain": [
       "<keras.callbacks.History at 0x7fa1ffde7310>"
      ]
     },
     "execution_count": 29,
     "metadata": {},
     "output_type": "execute_result"
    }
   ],
   "source": [
    "hypermodel = tuner.hypermodel.build(best_hps)\n",
    "\n",
    "# Retrain the model\n",
    "hypermodel.fit(img_train, label_train, epochs=best_epoch, validation_split=0.2)"
   ]
  },
  {
   "cell_type": "markdown",
   "metadata": {
    "id": "MqU5ZVAaag2v"
   },
   "source": [
    "To finish this tutorial, evaluate the hypermodel on the test data."
   ]
  },
  {
   "cell_type": "code",
   "execution_count": 35,
   "metadata": {
    "execution": {
     "iopub.execute_input": "2022-01-26T07:50:13.261757Z",
     "iopub.status.busy": "2022-01-26T07:50:13.260905Z",
     "iopub.status.idle": "2022-01-26T07:50:14.164014Z",
     "shell.execute_reply": "2022-01-26T07:50:14.163492Z"
    },
    "id": "9E0BTp9Ealjb"
   },
   "outputs": [
    {
     "name": "stdout",
     "output_type": "stream",
     "text": [
      "313/313 [==============================] - 1s 3ms/step - loss: 0.4991 - accuracy: 0.8931\n",
      "[test loss, test accuracy]: [0.49910804629325867, 0.8931000232696533]\n"
     ]
    }
   ],
   "source": [
    "eval_result = hypermodel.evaluate(img_test, label_test)\n",
    "print(\"[test loss, test accuracy]:\", eval_result)"
   ]
  },
  {
   "cell_type": "markdown",
   "metadata": {
    "id": "EQRpPHZsz-eC"
   },
   "source": [
    "The `my_dir/intro_to_kt` directory contains detailed logs and checkpoints for every trial (model configuration) run during the hyperparameter search. If you re-run the hyperparameter search, the Keras Tuner uses the existing state from these logs to resume the search. To disable this behavior, pass an additional `overwrite=True` argument while instantiating the tuner."
   ]
  },
  {
   "cell_type": "markdown",
   "metadata": {
    "id": "sKwLOzKpFGAj"
   },
   "source": [
    "## Summary\n",
    "\n",
    "In this tutorial, you learned how to use the Keras Tuner to tune hyperparameters for a model. To learn more about the Keras Tuner, check out these additional resources:\n",
    "\n",
    "* [Keras Tuner on the TensorFlow blog](https://blog.tensorflow.org/2020/01/hyperparameter-tuning-with-keras-tuner.html)\n",
    "* [Keras Tuner website](https://keras-team.github.io/keras-tuner/)\n",
    "\n",
    "Also check out the [HParams Dashboard](https://www.tensorflow.org/tensorboard/hyperparameter_tuning_with_hparams) in TensorBoard to interactively tune your model hyperparameters."
   ]
  },
  {
   "cell_type": "markdown",
   "metadata": {},
   "source": [
    "-------\n",
    "-------\n",
    "-------\n",
    "-------\n",
    "> - https://keras.io/guides/keras_tuner/getting_started/ **<< This provides a better tutorial for understanding `keras.Tuner`**\n",
    "> - **Below gives the intuitive usages of `kt.HyperParameters()`**\n",
    "\n",
    "```python\n",
    "def build_model(hp):\n",
    "    model = keras.Sequential()\n",
    "    model.add(layers.Flatten())\n",
    "    model.add(\n",
    "        layers.Dense(\n",
    "            # Tune number of units.\n",
    "            units=hp.Int(\"units\", min_value=32, max_value=512, step=32),\n",
    "            # Tune the activation function to use.\n",
    "            activation=hp.Choice(\"activation\", [\"relu\", \"tanh\"]),\n",
    "        )\n",
    "    )\n",
    "    # Tune whether to use dropout.\n",
    "    if hp.Boolean(\"dropout\"):\n",
    "        model.add(layers.Dropout(rate=0.25))\n",
    "    model.add(layers.Dense(10, activation=\"softmax\"))\n",
    "    # Define the optimizer learning rate as a hyperparameter.\n",
    "    learning_rate = hp.Float(\"lr\", min_value=1e-4, max_value=1e-2, sampling=\"log\")\n",
    "    model.compile(\n",
    "        optimizer=keras.optimizers.Adam(learning_rate=learning_rate),\n",
    "        loss=\"categorical_crossentropy\",\n",
    "        metrics=[\"accuracy\"],\n",
    "    )\n",
    "    return model\n",
    "\n",
    "\n",
    "\n",
    "build_model(kt.HyperParameters())\n",
    "```"
   ]
  }
 ],
 "metadata": {
  "accelerator": "GPU",
  "colab": {
   "collapsed_sections": [
    "Tce3stUlHN0L"
   ],
   "name": "keras_tuner.ipynb",
   "toc_visible": true
  },
  "kernelspec": {
   "display_name": "Python 3 (ipykernel)",
   "language": "python",
   "name": "python3"
  },
  "language_info": {
   "codemirror_mode": {
    "name": "ipython",
    "version": 3
   },
   "file_extension": ".py",
   "mimetype": "text/x-python",
   "name": "python",
   "nbconvert_exporter": "python",
   "pygments_lexer": "ipython3",
   "version": "3.7.11"
  }
 },
 "nbformat": 4,
 "nbformat_minor": 1
}
