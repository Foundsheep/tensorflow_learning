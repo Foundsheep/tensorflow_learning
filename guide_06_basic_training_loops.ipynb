{
  "cells": [
    {
      "cell_type": "markdown",
      "metadata": {
        "id": "view-in-github",
        "colab_type": "text"
      },
      "source": [
        "<a href=\"https://colab.research.google.com/github/Foundsheep/tensorflow_learning/blob/main/guide_06_basic_training_loops.ipynb\" target=\"_parent\"><img src=\"https://colab.research.google.com/assets/colab-badge.svg\" alt=\"Open In Colab\"/></a>"
      ]
    },
    {
      "cell_type": "markdown",
      "source": [
        "# Key Takeaways\n",
        "\n",
        "- Custom으로 traning loop을 짠다면 포함시켜야 하는 원리들\n",
        "  - 데이터 모델에 보내주기\n",
        "  - loss 값 계산\n",
        "  - gradients 계산(`tf.GradientTape` 사용)\n",
        "  - gradients 최적화(업데이트)\n",
        "  - _여기에 추가로 Variable들 어떻게 업데이트 되는지 `list`에 모으고, `print`해주는 부분도 넣어주면 좋다._\n",
        "- By default, `fit()` uses `tf.function()`\n",
        "- Keras prints out the loss after training, not before, so the first loss appears lower\n",
        "- 케라스 모델이 아닌 `tf.Module`클래스를 상속해서 만든 모델이면 `.compile()`, `.fit()` 같이 쉽게 학습 코드를 작성할 수 없다.\n",
        "\n",
        "----\n"
      ],
      "metadata": {
        "id": "NIqzaLBVfY9W"
      }
    },
    {
      "cell_type": "markdown",
      "metadata": {
        "id": "5rmpybwysXGV"
      },
      "source": [
        "##### Copyright 2020 The TensorFlow Authors."
      ]
    },
    {
      "cell_type": "code",
      "execution_count": null,
      "metadata": {
        "cellView": "form",
        "id": "m8y3rGtQsYP2"
      },
      "outputs": [],
      "source": [
        "#@title Licensed under the Apache License, Version 2.0 (the \"License\");\n",
        "# you may not use this file except in compliance with the License.\n",
        "# You may obtain a copy of the License at\n",
        "#\n",
        "# https://www.apache.org/licenses/LICENSE-2.0\n",
        "#\n",
        "# Unless required by applicable law or agreed to in writing, software\n",
        "# distributed under the License is distributed on an \"AS IS\" BASIS,\n",
        "# WITHOUT WARRANTIES OR CONDITIONS OF ANY KIND, either express or implied.\n",
        "# See the License for the specific language governing permissions and\n",
        "# limitations under the License."
      ]
    },
    {
      "cell_type": "markdown",
      "metadata": {
        "id": "hrXv0rU9sIma"
      },
      "source": [
        "# Basic training loops"
      ]
    },
    {
      "cell_type": "markdown",
      "metadata": {
        "id": "7S0BwJ_8sLu7"
      },
      "source": [
        "<table class=\"tfo-notebook-buttons\" align=\"left\">\n",
        "  <td>\n",
        "    <a target=\"_blank\" href=\"https://www.tensorflow.org/guide/basic_training_loops\"><img src=\"https://www.tensorflow.org/images/tf_logo_32px.png\" />View on TensorFlow.org</a>\n",
        "  </td>\n",
        "  <td>\n",
        "    <a target=\"_blank\" href=\"https://colab.research.google.com/github/tensorflow/docs/blob/master/site/en/guide/basic_training_loops.ipynb\"><img src=\"https://www.tensorflow.org/images/colab_logo_32px.png\" />Run in Google Colab</a>\n",
        "  </td>\n",
        "  <td>\n",
        "    <a target=\"_blank\" href=\"https://github.com/tensorflow/docs/blob/master/site/en/guide/basic_training_loops.ipynb\"><img src=\"https://www.tensorflow.org/images/GitHub-Mark-32px.png\" />View source on GitHub</a>\n",
        "  </td>\n",
        "  <td>\n",
        "    <a href=\"https://storage.googleapis.com/tensorflow_docs/docs/site/en/guide/basic_training_loops.ipynb\"><img src=\"https://www.tensorflow.org/images/download_logo_32px.png\" />Download notebook</a>\n",
        "  </td>\n",
        "</table>"
      ]
    },
    {
      "cell_type": "markdown",
      "metadata": {
        "id": "k2o3TTG4TFpt"
      },
      "source": [
        "In the previous guides, you have learned about [tensors](./tensor.ipynb), [variables](./variable.ipynb), [gradient tape](autodiff.ipynb), and [modules](./intro_to_modules.ipynb).  In this guide, you will fit these all together to train models.\n",
        "\n",
        "TensorFlow also includes the [tf.Keras API](https://www.tensorflow.org/guide/keras/overview), a high-level neural network API that provides useful abstractions to reduce boilerplate.  However, in this guide, you will use basic classes."
      ]
    },
    {
      "cell_type": "markdown",
      "metadata": {
        "id": "3LXMVuV0VhDr"
      },
      "source": [
        "## Setup"
      ]
    },
    {
      "cell_type": "code",
      "execution_count": 1,
      "metadata": {
        "id": "NiolgWMPgpwI"
      },
      "outputs": [],
      "source": [
        "import tensorflow as tf\n",
        "\n",
        "import matplotlib.pyplot as plt\n",
        "\n",
        "colors = plt.rcParams['axes.prop_cycle'].by_key()['color']"
      ]
    },
    {
      "cell_type": "markdown",
      "metadata": {
        "id": "iKD__8kFCKNt"
      },
      "source": [
        "## Solving machine learning problems\n",
        "\n",
        "Solving a machine learning problem usually consists of the following steps:\n",
        "\n",
        " - Obtain training data.\n",
        " - Define the model.\n",
        " - Define a loss function.\n",
        " - Run through the training data, calculating loss from the ideal value\n",
        " - Calculate gradients for that loss and use an *optimizer* to adjust the variables to fit the data.\n",
        " - Evaluate your results.\n",
        "\n",
        "For illustration purposes, in this guide you'll develop a simple linear model, $f(x) = x * W + b$, which has two variables: $W$ (weights) and $b$ (bias).\n",
        "\n",
        "This is the most basic of machine learning problems:  Given $x$ and $y$, try to find the slope and offset of a line via  [simple linear regression](https://en.wikipedia.org/wiki/Linear_regression#Simple_and_multiple_linear_regression)."
      ]
    },
    {
      "cell_type": "markdown",
      "metadata": {
        "id": "qutT_fkl_CBc"
      },
      "source": [
        "## Data\n",
        "\n",
        "Supervised learning uses *inputs* (usually denoted as *x*) and *outputs* (denoted *y*, often called *labels*).  The goal is to learn from paired inputs and outputs so that you can predict the value of an output from an input.\n",
        "\n",
        "Each input of your data, in TensorFlow, is almost always represented by a tensor, and is often a vector. In supervised training, the output (or value you'd like to predict) is also a tensor.\n",
        "\n",
        "Here is some data synthesized by adding Gaussian (Normal) noise to points along a line."
      ]
    },
    {
      "cell_type": "code",
      "execution_count": 2,
      "metadata": {
        "id": "NzivK2ATByOz"
      },
      "outputs": [],
      "source": [
        "# The actual line\n",
        "TRUE_W = 3.0\n",
        "TRUE_B = 2.0\n",
        "\n",
        "NUM_EXAMPLES = 201\n",
        "\n",
        "# A vector of random x values\n",
        "x = tf.linspace(-2,2, NUM_EXAMPLES)\n",
        "x = tf.cast(x, tf.float32)\n",
        "\n",
        "def f(x):\n",
        "  return x * TRUE_W + TRUE_B\n",
        "\n",
        "# Generate some noise\n",
        "noise = tf.random.normal(shape=[NUM_EXAMPLES])\n",
        "\n",
        "# Calculate y\n",
        "y = f(x) + noise"
      ]
    },
    {
      "cell_type": "code",
      "execution_count": 3,
      "metadata": {
        "id": "IlFd_HVBFGIF",
        "colab": {
          "base_uri": "https://localhost:8080/",
          "height": 265
        },
        "outputId": "c84aadb5-32cd-4193-f724-06b903dd98ea"
      },
      "outputs": [
        {
          "output_type": "display_data",
          "data": {
            "text/plain": [
              "<Figure size 432x288 with 1 Axes>"
            ],
            "image/png": "[encoded data removed]"
          },
          "metadata": {
            "needs_background": "light"
          }
        }
      ],
      "source": [
        "# Plot all the data\n",
        "plt.plot(x, y, '.')\n",
        "plt.show()"
      ]
    },
    {
      "cell_type": "markdown",
      "metadata": {
        "id": "UH95XUzhL99d"
      },
      "source": [
        "Tensors are usually gathered together in *batches*, or groups of inputs and outputs stacked together.  Batching can confer some training benefits and works well with accelerators and vectorized computation.  Given how small this dataset is, you can treat the entire dataset as a single batch."
      ]
    },
    {
      "cell_type": "markdown",
      "source": [
        "##### exploration\n",
        "---\n",
        "---\n",
        "---\n",
        "---"
      ],
      "metadata": {
        "id": "uz00TfYaa3p7"
      }
    },
    {
      "cell_type": "code",
      "source": [
        "noise.shape"
      ],
      "metadata": {
        "colab": {
          "base_uri": "https://localhost:8080/"
        },
        "id": "oHQX4XULavBO",
        "outputId": "67499b56-91a1-4c44-d3bf-4a78b22668c4"
      },
      "execution_count": 4,
      "outputs": [
        {
          "output_type": "execute_result",
          "data": {
            "text/plain": [
              "TensorShape([201])"
            ]
          },
          "metadata": {},
          "execution_count": 4
        }
      ]
    },
    {
      "cell_type": "code",
      "source": [
        "noise.numpy().shape"
      ],
      "metadata": {
        "colab": {
          "base_uri": "https://localhost:8080/"
        },
        "id": "KlbNOx_Uaxhv",
        "outputId": "f936d49d-55af-4c3c-91fc-97dfeb3ba8bd"
      },
      "execution_count": 5,
      "outputs": [
        {
          "output_type": "execute_result",
          "data": {
            "text/plain": [
              "(201,)"
            ]
          },
          "metadata": {},
          "execution_count": 5
        }
      ]
    },
    {
      "cell_type": "markdown",
      "source": [
        "---\n",
        "---\n",
        "---\n",
        "---"
      ],
      "metadata": {
        "id": "6yNYPL62a61Q"
      }
    },
    {
      "cell_type": "markdown",
      "metadata": {
        "id": "gFzH64Jn9PIm"
      },
      "source": [
        "## Define the model\n",
        "\n",
        "Use `tf.Variable` to represent all weights in a model.  A `tf.Variable` stores a value and provides this in tensor form as needed.  See the [variable guide](./variable.ipynb) for more details.\n",
        "\n",
        "Use `tf.Module` to encapsulate the variables and the computation.  You could use any Python object, but this way it can be easily saved.\n",
        "\n",
        "Here, you define both *w* and *b* as variables."
      ]
    },
    {
      "cell_type": "code",
      "execution_count": 9,
      "metadata": {
        "id": "_WRu7Pze7wk8",
        "colab": {
          "base_uri": "https://localhost:8080/"
        },
        "outputId": "33060c33-cc2c-4df8-e223-e493027247a3"
      },
      "outputs": [
        {
          "output_type": "stream",
          "name": "stdout",
          "text": [
            "Variables: (<tf.Variable 'Variable:0' shape=() dtype=float32, numpy=0.0>, <tf.Variable 'Variable:0' shape=() dtype=float32, numpy=1.0>, <tf.Variable 'Variable:0' shape=() dtype=float32, numpy=5.0>)\n"
          ]
        }
      ],
      "source": [
        "class MyModel(tf.Module):\n",
        "  def __init__(self, **kwargs):\n",
        "    super().__init__(**kwargs)\n",
        "    # Initialize the weights to `5.0` and the bias to `0.0`\n",
        "    # In practice, these should be randomly initialized\n",
        "    self.w = tf.Variable(5.0)\n",
        "    self.b = tf.Variable(0.0)\n",
        "    self.t = tf.Variable(1.0) # 테스트를 위해 DJ 추가\n",
        "\n",
        "  def __call__(self, x):\n",
        "    return self.w * x + self.b\n",
        "\n",
        "model = MyModel()\n",
        "\n",
        "# List the variables tf.modules's built-in variable aggregation.\n",
        "print(\"Variables:\", model.variables)\n",
        "\n",
        "# Verify the model works\n",
        "assert model(3.0).numpy() == 15.0"
      ]
    },
    {
      "cell_type": "markdown",
      "metadata": {
        "id": "rdpN_3ssG9D5"
      },
      "source": [
        "The initial variables are set here in a fixed way, but Keras comes with any of a number of [initalizers](https://www.tensorflow.org/api_docs/python/tf/keras/initializers) you could use, with or without the rest of Keras."
      ]
    },
    {
      "cell_type": "markdown",
      "source": [
        "##### exploration\n",
        "------\n",
        "---\n",
        "---\n",
        "---"
      ],
      "metadata": {
        "id": "tfOTmejxczVb"
      }
    },
    {
      "cell_type": "code",
      "source": [
        "model.variables"
      ],
      "metadata": {
        "colab": {
          "base_uri": "https://localhost:8080/"
        },
        "id": "TwmbfzyZcPVG",
        "outputId": "53ed08bb-d1f9-4122-b483-14ba9c57e604"
      },
      "execution_count": 10,
      "outputs": [
        {
          "output_type": "execute_result",
          "data": {
            "text/plain": [
              "(<tf.Variable 'Variable:0' shape=() dtype=float32, numpy=0.0>,\n",
              " <tf.Variable 'Variable:0' shape=() dtype=float32, numpy=1.0>,\n",
              " <tf.Variable 'Variable:0' shape=() dtype=float32, numpy=5.0>)"
            ]
          },
          "metadata": {},
          "execution_count": 10
        }
      ]
    },
    {
      "cell_type": "code",
      "source": [
        "model.variables[0]"
      ],
      "metadata": {
        "colab": {
          "base_uri": "https://localhost:8080/"
        },
        "id": "Xr2vrWcscSvQ",
        "outputId": "783ab777-cfd0-4e6f-e65a-ab43d64b07db"
      },
      "execution_count": 8,
      "outputs": [
        {
          "output_type": "execute_result",
          "data": {
            "text/plain": [
              "<tf.Variable 'Variable:0' shape=() dtype=float32, numpy=0.0>"
            ]
          },
          "metadata": {},
          "execution_count": 8
        }
      ]
    },
    {
      "cell_type": "markdown",
      "source": [
        "> - 모델에서 써놓은 w, b, t 순서가 아니라 integer로서 오름차순으로 정렬되어 나오는 것 같다."
      ],
      "metadata": {
        "id": "MTGVv1r8ce93"
      }
    },
    {
      "cell_type": "code",
      "source": [
        "try:\n",
        "    class t_MyModel(tf.Module):\n",
        "        def __init__(self, **kwargs):\n",
        "            super().__init__(self, **kwargs) # 여기다가 self 를 넣어봤는데, 오류남\n",
        "            # Initialize the weights to `5.0` and the bias to `0.0`\n",
        "            # In practice, these should be randomly initialized\n",
        "            self.w = tf.Variable(5.0)\n",
        "            self.b = tf.Variable(0.0)\n",
        "            self.t = tf.Variable(1.0) # 테스트를 위해 DJ 추가\n",
        "\n",
        "        def __call__(self, x):\n",
        "            return self.w * x + self.b\n",
        "\n",
        "    t_model = t_MyModel()\n",
        "\n",
        "    # List the variables tf.modules's built-in variable aggregation.\n",
        "    print(\"Variables:\", t_model.variables)\n",
        "\n",
        "    # Verify the model works\n",
        "    assert t_model(3.0).numpy() == 15.0\n",
        "except Exception as e:\n",
        "    print(f\"{type(e).__name__} : {e}\")"
      ],
      "metadata": {
        "colab": {
          "base_uri": "https://localhost:8080/"
        },
        "id": "_Z2UtWWedIdw",
        "outputId": "1dbd2d16-a878-4e7a-a5bd-fc997e22696c"
      },
      "execution_count": 20,
      "outputs": [
        {
          "output_type": "stream",
          "name": "stdout",
          "text": [
            "TypeError : expected string or bytes-like object\n"
          ]
        }
      ]
    },
    {
      "cell_type": "markdown",
      "source": [
        "> - 클래스로 만들 때 inherit 했으면, `__init__()`에는 `self`를 넣는 게 맞는데, 만약에 `super().__init__(self)`로 넣으면 오류가 난다.\n",
        "> - 이유는 super로서 부모 클래스의 `__init__`을 쓸 때 argument로 `self`를 넣으라는 것인데, 사실 self는 부모 클래스에 넣는 게 아닌 것 같다.\n",
        "> - 그냥 자기 자신 `__init__`할 때만 쓰이면 되는 것 같다."
      ],
      "metadata": {
        "id": "B0WIh9o_eD10"
      }
    },
    {
      "cell_type": "markdown",
      "source": [
        "------\n",
        "---\n",
        "---\n",
        "---"
      ],
      "metadata": {
        "id": "X9KP44T2c2el"
      }
    },
    {
      "cell_type": "markdown",
      "metadata": {
        "id": "xa6j_yXa-j79"
      },
      "source": [
        "### Define a loss function\n",
        "\n",
        "A loss function measures how well the output of a model for a given input matches the target output. The goal is to minimize this difference during training. Define the standard L2 loss, also known as the \"mean squared\" error:"
      ]
    },
    {
      "cell_type": "code",
      "execution_count": 21,
      "metadata": {
        "id": "Y0ysUFGY924U"
      },
      "outputs": [],
      "source": [
        "# This computes a single loss value for an entire batch\n",
        "def loss(target_y, predicted_y):\n",
        "  return tf.reduce_mean(tf.square(target_y - predicted_y))"
      ]
    },
    {
      "cell_type": "markdown",
      "metadata": {
        "id": "-50nq-wPBsAW"
      },
      "source": [
        "Before training the model, you can visualize the loss value by plotting the model's predictions in red and the training data in blue:"
      ]
    },
    {
      "cell_type": "code",
      "execution_count": 22,
      "metadata": {
        "id": "_eb83LtrB4nt",
        "colab": {
          "base_uri": "https://localhost:8080/",
          "height": 283
        },
        "outputId": "e60ebf95-e5c3-4936-95f6-96e53e38cbda"
      },
      "outputs": [
        {
          "output_type": "display_data",
          "data": {
            "text/plain": [
              "<Figure size 432x288 with 1 Axes>"
            ],
            "image/png": "[encoded data removed]"
          },
          "metadata": {
            "needs_background": "light"
          }
        },
        {
          "output_type": "stream",
          "name": "stdout",
          "text": [
            "Current loss: 10.346854\n"
          ]
        }
      ],
      "source": [
        "plt.plot(x, y, '.', label=\"Data\")\n",
        "plt.plot(x, f(x), label=\"Ground truth\")\n",
        "plt.plot(x, model(x), label=\"Predictions\")\n",
        "plt.legend()\n",
        "plt.show()\n",
        "\n",
        "print(\"Current loss: %1.6f\" % loss(y, model(x)).numpy())"
      ]
    },
    {
      "cell_type": "markdown",
      "source": [
        "##### exploration\n",
        "---\n",
        "---\n",
        "------\n",
        "---"
      ],
      "metadata": {
        "id": "CjD0-dJygpvr"
      }
    },
    {
      "cell_type": "code",
      "source": [
        "plt.plot(x, y, '.', label=\"Data\")\n",
        "plt.plot(x, f(x), label=\"Ground truth\")\n",
        "plt.plot(x, model(x), label=\"Predictions\")\n",
        "plt.legend()\n",
        "plt.show()\n",
        "\n",
        "print(\"Current loss: %.4f\" % loss(f(x), model(x)).numpy())"
      ],
      "metadata": {
        "colab": {
          "base_uri": "https://localhost:8080/",
          "height": 283
        },
        "id": "9SHsOT_Kgpkj",
        "outputId": "05108109-391c-48c6-e121-fca758cc6ed0"
      },
      "execution_count": 26,
      "outputs": [
        {
          "output_type": "display_data",
          "data": {
            "text/plain": [
              "<Figure size 432x288 with 1 Axes>"
            ],
            "image/png": "[encoded data removed]"
          },
          "metadata": {
            "needs_background": "light"
          }
        },
        {
          "output_type": "stream",
          "name": "stdout",
          "text": [
            "Current loss: 9.3867\n"
          ]
        }
      ]
    },
    {
      "cell_type": "markdown",
      "source": [
        "> - 생각해보자. `loss(y, model(x))`에서 왜 `loss(f(x), model(x))`를 하면 안될까?\n",
        "> - 본능적으로 Ground Truth라길래 `f(x)` 넣고 싶은 생각이 들어서 한번 시도해봤다.(당연히 실행되긴 한다.)\n",
        "> - 그렇다면 `f(x)`를 넣었을 때의 의미랑 `y`를 넣었을 때의 의미 차이는?\n",
        "> - 여기서 y라고 써서 약간 개인적으로 헷갈렸는데, 사실 `y`는 `y_true`인 것이다. 즉 항상 loss 값 계산 때 넣었던 우리가 **갖고 있는 데이터의 라벨 값**\n",
        "> - 사실 `f(x)`는 우리가 **갖고 있지 않은** 최적화 됐을 때의 데이터에 대한 **예측 값**인 것이다.\n",
        "> - 여기선 그 예측 값을 Ground Truth라고 했지만, 사실 실제 모델 training할 때 Ground Truth는 여기서의 Data이고, y_pred가 Ground Truth가 되는 것 같다."
      ],
      "metadata": {
        "id": "6VukMlvEgaVW"
      }
    },
    {
      "cell_type": "markdown",
      "source": [
        "---\n",
        "---\n",
        "------\n",
        "---"
      ],
      "metadata": {
        "id": "o9zzfKILgpbw"
      }
    },
    {
      "cell_type": "markdown",
      "metadata": {
        "id": "sSDP-yeq_4jE"
      },
      "source": [
        "### Define a training loop\n",
        "\n",
        "The training loop consists of repeatedly doing three tasks in order:\n",
        "\n",
        "* Sending a batch of inputs through the model to generate outputs\n",
        "* Calculating the loss by comparing the outputs to the output (or label)\n",
        "* Using gradient tape to find the gradients\n",
        "* Optimizing the variables with those gradients\n",
        "\n",
        "For this example, you can train the model using [gradient descent](https://en.wikipedia.org/wiki/Gradient_descent).\n",
        "\n",
        "There are many variants of the gradient descent scheme that are captured in `tf.keras.optimizers`. But in the spirit of building from first principles, here you will implement the basic math yourself with the help of `tf.GradientTape` for automatic differentiation and `tf.assign_sub` for decrementing a value (which combines `tf.assign` and `tf.sub`):"
      ]
    },
    {
      "cell_type": "code",
      "execution_count": 27,
      "metadata": {
        "id": "MBIACgdnA55X"
      },
      "outputs": [],
      "source": [
        "# Given a callable model, inputs, outputs, and a learning rate...\n",
        "def train(model, x, y, learning_rate):\n",
        "\n",
        "  with tf.GradientTape() as t:\n",
        "    # Trainable variables are automatically tracked by GradientTape\n",
        "    current_loss = loss(y, model(x))\n",
        "\n",
        "  # Use GradientTape to calculate the gradients with respect to W and b\n",
        "  dw, db = t.gradient(current_loss, [model.w, model.b])\n",
        "\n",
        "  # Subtract the gradient scaled by the learning rate\n",
        "  model.w.assign_sub(learning_rate * dw)\n",
        "  model.b.assign_sub(learning_rate * db)"
      ]
    },
    {
      "cell_type": "markdown",
      "metadata": {
        "id": "RwWPaJryD2aN"
      },
      "source": [
        "For a look at training, you can send the same batch of *x* and *y* through the training loop, and see how `W` and `b` evolve."
      ]
    },
    {
      "cell_type": "code",
      "execution_count": 28,
      "metadata": {
        "id": "XdfkR223D9dW"
      },
      "outputs": [],
      "source": [
        "model = MyModel()\n",
        "\n",
        "# Collect the history of W-values and b-values to plot later\n",
        "weights = []\n",
        "biases = []\n",
        "epochs = range(10)\n",
        "\n",
        "# Define a training loop\n",
        "def report(model, loss):\n",
        "  return f\"W = {model.w.numpy():1.2f}, b = {model.b.numpy():1.2f}, loss={loss:2.5f}\"\n",
        "\n",
        "\n",
        "def training_loop(model, x, y):\n",
        "\n",
        "  for epoch in epochs:\n",
        "    # Update the model with the single giant batch\n",
        "    train(model, x, y, learning_rate=0.1)\n",
        "\n",
        "    # Track this before I update\n",
        "    weights.append(model.w.numpy())\n",
        "    biases.append(model.b.numpy())\n",
        "    current_loss = loss(y, model(x))\n",
        "\n",
        "    print(f\"Epoch {epoch:2d}:\")\n",
        "    print(\"    \", report(model, current_loss))"
      ]
    },
    {
      "cell_type": "markdown",
      "metadata": {
        "id": "8dKKLU4KkQEq"
      },
      "source": [
        "Do the training"
      ]
    },
    {
      "cell_type": "code",
      "execution_count": 29,
      "metadata": {
        "id": "iRuNUghs1lHY",
        "colab": {
          "base_uri": "https://localhost:8080/"
        },
        "outputId": "da62caed-8155-4216-e67e-3e1abce6e79e"
      },
      "outputs": [
        {
          "output_type": "stream",
          "name": "stdout",
          "text": [
            "Starting:\n",
            "     W = 5.00, b = 0.00, loss=10.34685\n",
            "Epoch  0:\n",
            "     W = 4.46, b = 0.39, loss=6.39203\n",
            "Epoch  1:\n",
            "     W = 4.06, b = 0.71, loss=4.13241\n",
            "Epoch  2:\n",
            "     W = 3.77, b = 0.96, loss=2.83118\n",
            "Epoch  3:\n",
            "     W = 3.56, b = 1.16, loss=2.07577\n",
            "Epoch  4:\n",
            "     W = 3.40, b = 1.32, loss=1.63362\n",
            "Epoch  5:\n",
            "     W = 3.29, b = 1.45, loss=1.37269\n",
            "Epoch  6:\n",
            "     W = 3.21, b = 1.56, loss=1.21747\n",
            "Epoch  7:\n",
            "     W = 3.15, b = 1.64, loss=1.12442\n",
            "Epoch  8:\n",
            "     W = 3.10, b = 1.71, loss=1.06822\n",
            "Epoch  9:\n",
            "     W = 3.07, b = 1.76, loss=1.03404\n"
          ]
        }
      ],
      "source": [
        "current_loss = loss(y, model(x))\n",
        "\n",
        "print(f\"Starting:\")\n",
        "print(\"    \", report(model, current_loss))\n",
        "\n",
        "training_loop(model, x, y)"
      ]
    },
    {
      "cell_type": "markdown",
      "metadata": {
        "id": "JPJgimg8kSA4"
      },
      "source": [
        "Plot the evolution of the weights over time:"
      ]
    },
    {
      "cell_type": "code",
      "execution_count": 30,
      "metadata": {
        "id": "ND1fQw8sbTNr",
        "colab": {
          "base_uri": "https://localhost:8080/",
          "height": 265
        },
        "outputId": "7ff26a6e-ecde-4e2d-ddde-2c23df4150c3"
      },
      "outputs": [
        {
          "output_type": "display_data",
          "data": {
            "text/plain": [
              "<Figure size 432x288 with 1 Axes>"
            ],
            "image/png": "[encoded data removed]"
          },
          "metadata": {
            "needs_background": "light"
          }
        }
      ],
      "source": [
        "plt.plot(epochs, weights, label='Weights', color=colors[0])\n",
        "plt.plot(epochs, [TRUE_W] * len(epochs), '--',\n",
        "         label = \"True weight\", color=colors[0])\n",
        "\n",
        "plt.plot(epochs, biases, label='bias', color=colors[1])\n",
        "plt.plot(epochs, [TRUE_B] * len(epochs), \"--\",\n",
        "         label=\"True bias\", color=colors[1])\n",
        "\n",
        "plt.legend()\n",
        "plt.show()"
      ]
    },
    {
      "cell_type": "markdown",
      "metadata": {
        "id": "zhlwj1ojkcUP"
      },
      "source": [
        "Visualize how the trained model performs"
      ]
    },
    {
      "cell_type": "code",
      "execution_count": 31,
      "metadata": {
        "id": "tpTEjWWex568",
        "colab": {
          "base_uri": "https://localhost:8080/",
          "height": 283
        },
        "outputId": "51dabdcb-0123-4ccd-9345-e73cfc0e478b"
      },
      "outputs": [
        {
          "output_type": "display_data",
          "data": {
            "text/plain": [
              "<Figure size 432x288 with 1 Axes>"
            ],
            "image/png": "[encoded data removed]"
          },
          "metadata": {
            "needs_background": "light"
          }
        },
        {
          "output_type": "stream",
          "name": "stdout",
          "text": [
            "Current loss: 1.034043\n"
          ]
        }
      ],
      "source": [
        "plt.plot(x, y, '.', label=\"Data\")\n",
        "plt.plot(x, f(x), label=\"Ground truth\")\n",
        "plt.plot(x, model(x), label=\"Predictions\")\n",
        "plt.legend()\n",
        "plt.show()\n",
        "\n",
        "print(\"Current loss: %1.6f\" % loss(model(x), y).numpy())"
      ]
    },
    {
      "cell_type": "markdown",
      "metadata": {
        "id": "DODMMmfLIiOC"
      },
      "source": [
        "## The same solution, but with Keras\n",
        "\n",
        "It's useful to contrast the code above with the equivalent in Keras.\n",
        "\n",
        "Defining the model looks exactly the same if you subclass `tf.keras.Model`.  Remember that Keras models inherit ultimately from module."
      ]
    },
    {
      "cell_type": "code",
      "execution_count": 32,
      "metadata": {
        "id": "Z86hCI0x1YX3",
        "colab": {
          "base_uri": "https://localhost:8080/"
        },
        "outputId": "f7f3395c-3bd2-4d3d-80c5-79be3cc5e5d6"
      },
      "outputs": [
        {
          "output_type": "stream",
          "name": "stdout",
          "text": [
            "Epoch  0:\n",
            "     W = 4.46, b = 0.39, loss=6.39203\n",
            "Epoch  1:\n",
            "     W = 4.06, b = 0.71, loss=4.13241\n",
            "Epoch  2:\n",
            "     W = 3.77, b = 0.96, loss=2.83118\n",
            "Epoch  3:\n",
            "     W = 3.56, b = 1.16, loss=2.07577\n",
            "Epoch  4:\n",
            "     W = 3.40, b = 1.32, loss=1.63362\n",
            "Epoch  5:\n",
            "     W = 3.29, b = 1.45, loss=1.37269\n",
            "Epoch  6:\n",
            "     W = 3.21, b = 1.56, loss=1.21747\n",
            "Epoch  7:\n",
            "     W = 3.15, b = 1.64, loss=1.12442\n",
            "Epoch  8:\n",
            "     W = 3.10, b = 1.71, loss=1.06822\n",
            "Epoch  9:\n",
            "     W = 3.07, b = 1.76, loss=1.03404\n"
          ]
        }
      ],
      "source": [
        "class MyModelKeras(tf.keras.Model):\n",
        "  def __init__(self, **kwargs):\n",
        "    super().__init__(**kwargs)\n",
        "    # Initialize the weights to `5.0` and the bias to `0.0`\n",
        "    # In practice, these should be randomly initialized\n",
        "    self.w = tf.Variable(5.0)\n",
        "    self.b = tf.Variable(0.0)\n",
        "\n",
        "  def call(self, x):\n",
        "    return self.w * x + self.b\n",
        "\n",
        "keras_model = MyModelKeras()\n",
        "\n",
        "# Reuse the training loop with a Keras model\n",
        "training_loop(keras_model, x, y)\n",
        "\n",
        "# You can also save a checkpoint using Keras's built-in support\n",
        "keras_model.save_weights(\"my_checkpoint\")"
      ]
    },
    {
      "cell_type": "markdown",
      "metadata": {
        "id": "6kw5P4jt2Az8"
      },
      "source": [
        "Rather than write new training loops each time you create a model, you can use the built-in features of Keras as a shortcut.  This can be useful when you do not want to write or debug Python training loops.\n",
        "\n",
        "If you do, you will need to use `model.compile()` to set the parameters, and `model.fit()` to train.  It can be less code to use Keras implementations of L2 loss and gradient descent, again as a shortcut.  Keras losses and optimizers can be used outside of these convenience functions, too, and the previous example could have used them."
      ]
    },
    {
      "cell_type": "code",
      "execution_count": 33,
      "metadata": {
        "id": "-nbLLfPE2pEl"
      },
      "outputs": [],
      "source": [
        "keras_model = MyModelKeras()\n",
        "\n",
        "# compile sets the training parameters\n",
        "keras_model.compile(\n",
        "    # By default, fit() uses tf.function().  You can\n",
        "    # turn that off for debugging, but it is on now.\n",
        "    run_eagerly=False,\n",
        "\n",
        "    # Using a built-in optimizer, configuring as an object\n",
        "    optimizer=tf.keras.optimizers.SGD(learning_rate=0.1),\n",
        "\n",
        "    # Keras comes with built-in MSE error\n",
        "    # However, you could use the loss function\n",
        "    # defined above\n",
        "    loss=tf.keras.losses.mean_squared_error,\n",
        ")"
      ]
    },
    {
      "cell_type": "markdown",
      "source": [
        "##### exploration\n",
        "---\n",
        "---\n",
        "---\n",
        "---\n"
      ],
      "metadata": {
        "id": "HIT1OYzfm1Bv"
      }
    },
    {
      "cell_type": "code",
      "source": [
        "model # Keras 모델 아님"
      ],
      "metadata": {
        "colab": {
          "base_uri": "https://localhost:8080/"
        },
        "id": "VQZocHNMm0Cu",
        "outputId": "30ab256a-132b-45cd-b97c-e850cb6d12c1"
      },
      "execution_count": 36,
      "outputs": [
        {
          "output_type": "execute_result",
          "data": {
            "text/plain": [
              "<__main__.MyModel at 0x7f88d953ead0>"
            ]
          },
          "metadata": {},
          "execution_count": 36
        }
      ]
    },
    {
      "cell_type": "code",
      "source": [
        "try:\n",
        "    model.compile(run_eagerly=False,\n",
        "                optimizer=tf.keras.optimizers.SGD(learning_rate=0.1),\n",
        "                loss=tf.keras.losses.mean_squared_error)\n",
        "except Exception as e:\n",
        "    print(f\"{type(e).__name__} : {e}\")"
      ],
      "metadata": {
        "colab": {
          "base_uri": "https://localhost:8080/"
        },
        "id": "1oSQYJymmzlD",
        "outputId": "cb89bd6f-d8cb-4b8b-cd93-67f123ecbace"
      },
      "execution_count": 38,
      "outputs": [
        {
          "output_type": "stream",
          "name": "stdout",
          "text": [
            "AttributeError : 'MyModel' object has no attribute 'compile'\n"
          ]
        }
      ]
    },
    {
      "cell_type": "markdown",
      "source": [
        "> - 케라스 모델이 아니면 `.compile()`, `.fit()` 같이 쉽게 학습 코드를 작성할 수 없다."
      ],
      "metadata": {
        "id": "hFGMXUaanTuL"
      }
    },
    {
      "cell_type": "markdown",
      "source": [
        "---\n",
        "---\n",
        "---\n",
        "---\n"
      ],
      "metadata": {
        "id": "wnXV8O0Cm5dA"
      }
    },
    {
      "cell_type": "markdown",
      "metadata": {
        "id": "lrlHODiZccu2"
      },
      "source": [
        "Keras `fit` expects batched data or a complete dataset as a NumPy array.  NumPy arrays are chopped into batches and default to a batch size of 32.\n",
        "\n",
        "In this case, to match the behavior of the hand-written loop, you should pass `x` in as a single batch of size 1000."
      ]
    },
    {
      "cell_type": "code",
      "execution_count": 34,
      "metadata": {
        "id": "zfAYqtu136PO",
        "colab": {
          "base_uri": "https://localhost:8080/"
        },
        "outputId": "43f7249b-b4a4-4907-d8bc-cfb1e653ee67"
      },
      "outputs": [
        {
          "output_type": "stream",
          "name": "stdout",
          "text": [
            "201\n",
            "Epoch 1/10\n",
            "1/1 [==============================] - 0s 363ms/step - loss: 10.3469\n",
            "Epoch 2/10\n",
            "1/1 [==============================] - 0s 8ms/step - loss: 6.3920\n",
            "Epoch 3/10\n",
            "1/1 [==============================] - 0s 6ms/step - loss: 4.1324\n",
            "Epoch 4/10\n",
            "1/1 [==============================] - 0s 10ms/step - loss: 2.8312\n",
            "Epoch 5/10\n",
            "1/1 [==============================] - 0s 10ms/step - loss: 2.0758\n",
            "Epoch 6/10\n",
            "1/1 [==============================] - 0s 7ms/step - loss: 1.6336\n",
            "Epoch 7/10\n",
            "1/1 [==============================] - 0s 8ms/step - loss: 1.3727\n",
            "Epoch 8/10\n",
            "1/1 [==============================] - 0s 7ms/step - loss: 1.2175\n",
            "Epoch 9/10\n",
            "1/1 [==============================] - 0s 6ms/step - loss: 1.1244\n",
            "Epoch 10/10\n",
            "1/1 [==============================] - 0s 6ms/step - loss: 1.0682\n"
          ]
        },
        {
          "output_type": "execute_result",
          "data": {
            "text/plain": [
              "<keras.callbacks.History at 0x7f88d98ec750>"
            ]
          },
          "metadata": {},
          "execution_count": 34
        }
      ],
      "source": [
        "print(x.shape[0])\n",
        "keras_model.fit(x, y, epochs=10, batch_size=1000)"
      ]
    },
    {
      "cell_type": "markdown",
      "metadata": {
        "id": "8zKZIO9P5s1G"
      },
      "source": [
        "Note that Keras prints out the loss after training, not before, so the first loss appears lower, but otherwise this shows essentially the same training performance."
      ]
    },
    {
      "cell_type": "markdown",
      "metadata": {
        "id": "vPnIVuaSJwWz"
      },
      "source": [
        "## Next steps\n",
        "\n",
        "In this guide, you have seen how to use the core classes of tensors, variables, modules, and gradient tape to build and train a model, and further how those ideas map to Keras.\n",
        "\n",
        "This is, however, an extremely simple problem. For a more practical introduction, see [Custom training walkthrough](../tutorials/customization/custom_training_walkthrough.ipynb).\n",
        "\n",
        "For more on using built-in Keras training loops, see [this guide](https://www.tensorflow.org/guide/keras/train_and_evaluate).  For more on training loops and Keras, see [this guide](https://www.tensorflow.org/guide/keras/writing_a_training_loop_from_scratch).  For writing custom distributed training loops, see [this guide](distributed_training.ipynb#using_tfdistributestrategy_with_basic_training_loops_loops)."
      ]
    }
  ],
  "metadata": {
    "colab": {
      "collapsed_sections": [
        "5rmpybwysXGV",
        "iKD__8kFCKNt"
      ],
      "name": "guide_06_basic_training_loops.ipynb",
      "provenance": [],
      "include_colab_link": true
    },
    "kernelspec": {
      "display_name": "Python 3",
      "name": "python3"
    }
  },
  "nbformat": 4,
  "nbformat_minor": 0
}