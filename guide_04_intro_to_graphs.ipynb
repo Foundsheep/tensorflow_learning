{
  "cells": [
    {
      "cell_type": "markdown",
      "metadata": {
        "id": "view-in-github",
        "colab_type": "text"
      },
      "source": [
        "<a href=\"https://colab.research.google.com/github/Foundsheep/tensorflow_learning/blob/main/guide_04_intro_to_graphs.ipynb\" target=\"_parent\"><img src=\"https://colab.research.google.com/assets/colab-badge.svg\" alt=\"Open In Colab\"/></a>"
      ]
    },
    {
      "cell_type": "markdown",
      "source": [
        "# Key Takeaways\n",
        "---\n",
        "- Eager execution doesn't use `tf.Graph`, and could be understood as a normal python function with TensorFlow operations in it. But `tf.function` uses `tf.Graph` module(?) and it allows the function to speed up and efficiently deploy its operations with tensors.\n",
        "- `tf.function` applies to a function *and all other functions it calls*\n",
        "- To make a python function a `Function`, either I could decorate it when it is defined with `@tf.function` above the `def` line, or call it in `tf.function()` method and make a new variable, which results in a `Fucntion`.\n",
        "- When python grammars are included in `tf.function`, `tf.autograph` library inside automatically converts them to use a graph.\n",
        "- Polymorphism: one `Function`, many graphs... The number of graphs depends on inputs' dtypes and shapes.\n",
        "- `tf.config.run_functions_eagerly(True)` can make `Fucntion` not to use a graph and operates eagerly.\n",
        "- When `Function` is operated, tracing is being done and it captures TF operations in a graph, but some python operations like `print` are not captured. To print values in both eager and graph execution, use `tf.print` instead"
      ],
      "metadata": {
        "id": "WRR1RmdFuwTw"
      }
    },
    {
      "cell_type": "markdown",
      "metadata": {
        "id": "N7ITxKLUkX0v"
      },
      "source": [
        "##### Copyright 2020 The TensorFlow Authors."
      ]
    },
    {
      "cell_type": "code",
      "execution_count": 1,
      "metadata": {
        "cellView": "form",
        "id": "yOYx6tzSnWQ3"
      },
      "outputs": [],
      "source": [
        "#@title Licensed under the Apache License, Version 2.0 (the \"License\");\n",
        "# you may not use this file except in compliance with the License.\n",
        "# You may obtain a copy of the License at\n",
        "#\n",
        "# https://www.apache.org/licenses/LICENSE-2.0\n",
        "#\n",
        "# Unless required by applicable law or agreed to in writing, software\n",
        "# distributed under the License is distributed on an \"AS IS\" BASIS,\n",
        "# WITHOUT WARRANTIES OR CONDITIONS OF ANY KIND, either express or implied.\n",
        "# See the License for the specific language governing permissions and\n",
        "# limitations under the License."
      ]
    },
    {
      "cell_type": "markdown",
      "metadata": {
        "id": "6xgB0Oz5eGSQ"
      },
      "source": [
        "# Introduction to graphs and tf.function"
      ]
    },
    {
      "cell_type": "markdown",
      "metadata": {
        "id": "w4zzZVZtQb1w"
      },
      "source": [
        "<table class=\"tfo-notebook-buttons\" align=\"left\">\n",
        "  <td>\n",
        "    <a target=\"_blank\" href=\"https://www.tensorflow.org/guide/intro_to_graphs\"><img src=\"https://www.tensorflow.org/images/tf_logo_32px.png\" />View on TensorFlow.org</a>\n",
        "  </td>\n",
        "  <td>\n",
        "    <a target=\"_blank\" href=\"https://colab.research.google.com/github/tensorflow/docs/blob/master/site/en/guide/intro_to_graphs.ipynb\"><img src=\"https://www.tensorflow.org/images/colab_logo_32px.png\" />Run in Google Colab</a>\n",
        "  </td>\n",
        "  <td>\n",
        "    <a target=\"_blank\" href=\"https://github.com/tensorflow/docs/blob/master/site/en/guide/intro_to_graphs.ipynb\"><img src=\"https://www.tensorflow.org/images/GitHub-Mark-32px.png\" />View source on GitHub</a>\n",
        "  </td>\n",
        "  <td>\n",
        "    <a href=\"https://storage.googleapis.com/tensorflow_docs/docs/site/en/guide/intro_to_graphs.ipynb\"><img src=\"https://www.tensorflow.org/images/download_logo_32px.png\" />Download notebook</a>\n",
        "  </td>\n",
        "</table>"
      ]
    },
    {
      "cell_type": "markdown",
      "metadata": {
        "id": "RBKqnXI9GOax"
      },
      "source": [
        "## Overview\n",
        "\n",
        "This guide goes beneath the surface of TensorFlow and Keras to demonstrate how TensorFlow works. If you instead want to immediately get started with Keras, check out the [collection of Keras guides](https://www.tensorflow.org/guide/keras/).\n",
        "\n",
        "In this guide, you'll learn how TensorFlow allows you to make simple changes to your code to get graphs, how graphs are stored and represented, and how you can use them to accelerate your models.\n",
        "\n",
        "Note: For those of you who are only familiar with TensorFlow 1.x, this guide demonstrates a very different view of graphs.\n",
        "\n",
        "**This is a big-picture overview that covers how `tf.function` allows you to switch from eager execution to graph execution.** For a more complete specification of `tf.function`, go to the [`tf.function` guide](function.ipynb).\n"
      ]
    },
    {
      "cell_type": "markdown",
      "metadata": {
        "id": "v0DdlfacAdTZ"
      },
      "source": [
        "### What are graphs?\n",
        "\n",
        "In the previous three guides, you ran TensorFlow **eagerly**. This means TensorFlow operations are executed by Python, operation by operation, and returning results back to Python.\n",
        "\n",
        "While eager execution has several unique advantages, graph execution enables portability outside Python and tends to offer better performance. **Graph execution** means that tensor computations are executed as a *TensorFlow graph*, sometimes referred to as a `tf.Graph` or simply a \"graph.\"\n",
        "\n",
        "**Graphs are data structures that contain a set of `tf.Operation` objects, which represent units of computation; and `tf.Tensor` objects, which represent the units of data that flow between operations.** They are defined in a `tf.Graph` context. Since these graphs are data structures, they can be saved, run, and restored all without the original Python code.\n",
        "\n",
        "This is what a TensorFlow graph representing a two-layer neural network looks like when visualized in TensorBoard.\n"
      ]
    },
    {
      "cell_type": "markdown",
      "metadata": {
        "id": "FvQ5aBuRGT1o"
      },
      "source": [
        "<img alt=\"A simple TensorFlow graph\" src=\"https://github.com/tensorflow/docs/blob/master/site/en/guide/images/intro_to_graphs/two-layer-network.png?raw=1\">"
      ]
    },
    {
      "cell_type": "markdown",
      "metadata": {
        "id": "DHpY3avXGITP"
      },
      "source": [
        "### The benefits of graphs\n",
        "\n",
        "With a graph, you have a great deal of flexibility.  You can use your TensorFlow graph in environments that don't have a Python interpreter, like mobile applications, embedded devices, and backend servers.  TensorFlow uses graphs as the format for [saved models](saved_model) when it exports them from Python.\n",
        "\n",
        "Graphs are also easily optimized, allowing the compiler to do transformations like:\n",
        "\n",
        "* Statically infer the value of tensors by folding constant nodes in your computation *(\"constant folding\")*.\n",
        "* Separate sub-parts of a computation that are independent and split them between threads or devices.\n",
        "* Simplify arithmetic operations by eliminating common subexpressions.\n"
      ]
    },
    {
      "cell_type": "markdown",
      "metadata": {
        "id": "o1x1EOD9GjnB"
      },
      "source": [
        "There is an entire optimization system, [Grappler](./graph_optimization.ipynb), to perform this and other speedups.\n",
        "\n",
        "In short, graphs are extremely useful and let your TensorFlow run **fast**, run **in parallel**, and run efficiently **on multiple devices**.\n",
        "\n",
        "However, you still want to define your machine learning models (or other computations) in Python for convenience, and then automatically construct graphs when you need them."
      ]
    },
    {
      "cell_type": "markdown",
      "metadata": {
        "id": "k-6Qi0thw2i9"
      },
      "source": [
        "## Setup"
      ]
    },
    {
      "cell_type": "code",
      "execution_count": 2,
      "metadata": {
        "id": "goZwOXp_xyQj"
      },
      "outputs": [],
      "source": [
        "import tensorflow as tf\n",
        "import timeit\n",
        "from datetime import datetime"
      ]
    },
    {
      "cell_type": "markdown",
      "metadata": {
        "id": "pSZebVuWxDXu"
      },
      "source": [
        "## Taking advantage of graphs\n",
        "\n",
        "You create and run a graph in TensorFlow by using `tf.function`, either as a direct call or as a decorator. `tf.function` takes a regular function as input and returns a `Function`. **A `Function` is a Python callable that builds TensorFlow graphs from the Python function. You use a `Function` in the same way as its Python equivalent.**\n"
      ]
    },
    {
      "cell_type": "code",
      "execution_count": 3,
      "metadata": {
        "id": "HKbLeJ1y0Umi"
      },
      "outputs": [],
      "source": [
        "# Define a Python function.\n",
        "def a_regular_function(x, y, b):\n",
        "  x = tf.matmul(x, y)\n",
        "  x = x + b\n",
        "  return x\n",
        "\n",
        "# `a_function_that_uses_a_graph` is a TensorFlow `Function`.\n",
        "a_function_that_uses_a_graph = tf.function(a_regular_function)\n",
        "\n",
        "# Make some tensors.\n",
        "x1 = tf.constant([[1.0, 2.0]])\n",
        "y1 = tf.constant([[2.0], [3.0]])\n",
        "b1 = tf.constant(4.0)\n",
        "\n",
        "orig_value = a_regular_function(x1, y1, b1).numpy()\n",
        "# Call a `Function` like a Python function.\n",
        "tf_function_value = a_function_that_uses_a_graph(x1, y1, b1).numpy()\n",
        "assert(orig_value == tf_function_value)"
      ]
    },
    {
      "cell_type": "markdown",
      "source": [
        "##### exploration\n",
        "---\n",
        "---\n",
        "------\n",
        "---"
      ],
      "metadata": {
        "id": "9_2PsE3oYQxU"
      }
    },
    {
      "cell_type": "code",
      "source": [
        "a_regular_function"
      ],
      "metadata": {
        "colab": {
          "base_uri": "https://localhost:8080/"
        },
        "id": "yKDUXCZxX8uH",
        "outputId": "f908430b-a82f-4887-d7ae-98a0be1c4dd8"
      },
      "execution_count": 4,
      "outputs": [
        {
          "output_type": "execute_result",
          "data": {
            "text/plain": [
              "<function __main__.a_regular_function>"
            ]
          },
          "metadata": {},
          "execution_count": 4
        }
      ]
    },
    {
      "cell_type": "code",
      "source": [
        "a_function_that_uses_a_graph"
      ],
      "metadata": {
        "colab": {
          "base_uri": "https://localhost:8080/"
        },
        "id": "qYTJeNnmX_ho",
        "outputId": "a0af1747-9dca-4b65-9853-84d5947822e3"
      },
      "execution_count": 5,
      "outputs": [
        {
          "output_type": "execute_result",
          "data": {
            "text/plain": [
              "<tensorflow.python.eager.def_function.Function at 0x7f49ae887350>"
            ]
          },
          "metadata": {},
          "execution_count": 5
        }
      ]
    },
    {
      "cell_type": "code",
      "source": [
        "a_regular_function(x1, y1, b1)"
      ],
      "metadata": {
        "colab": {
          "base_uri": "https://localhost:8080/"
        },
        "id": "RFc0KvEnYGCn",
        "outputId": "f2ba9b66-4ee2-47dc-a340-221ebbd31b61"
      },
      "execution_count": 6,
      "outputs": [
        {
          "output_type": "execute_result",
          "data": {
            "text/plain": [
              "<tf.Tensor: shape=(1, 1), dtype=float32, numpy=array([[12.]], dtype=float32)>"
            ]
          },
          "metadata": {},
          "execution_count": 6
        }
      ]
    },
    {
      "cell_type": "code",
      "source": [
        "a_function_that_uses_a_graph(x1, y1, b1)"
      ],
      "metadata": {
        "colab": {
          "base_uri": "https://localhost:8080/"
        },
        "id": "rVSixuPSYKnW",
        "outputId": "3086c66c-4a8b-46aa-b9da-7610122ddaa8"
      },
      "execution_count": 7,
      "outputs": [
        {
          "output_type": "execute_result",
          "data": {
            "text/plain": [
              "<tf.Tensor: shape=(1, 1), dtype=float32, numpy=array([[12.]], dtype=float32)>"
            ]
          },
          "metadata": {},
          "execution_count": 7
        }
      ]
    },
    {
      "cell_type": "code",
      "source": [
        "orig_value"
      ],
      "metadata": {
        "colab": {
          "base_uri": "https://localhost:8080/"
        },
        "id": "zqk7zJSNXhHu",
        "outputId": "188a41a8-fcbf-41a5-d679-dd3a1125fa6b"
      },
      "execution_count": 8,
      "outputs": [
        {
          "output_type": "execute_result",
          "data": {
            "text/plain": [
              "array([[12.]], dtype=float32)"
            ]
          },
          "metadata": {},
          "execution_count": 8
        }
      ]
    },
    {
      "cell_type": "code",
      "source": [
        "tf_function_value"
      ],
      "metadata": {
        "colab": {
          "base_uri": "https://localhost:8080/"
        },
        "id": "Z2UupzjKXjmS",
        "outputId": "4865728d-3dd8-45d4-8b6f-9d47a80b5345"
      },
      "execution_count": 9,
      "outputs": [
        {
          "output_type": "execute_result",
          "data": {
            "text/plain": [
              "array([[12.]], dtype=float32)"
            ]
          },
          "metadata": {},
          "execution_count": 9
        }
      ]
    },
    {
      "cell_type": "code",
      "source": [
        "orig_value == tf_function_value"
      ],
      "metadata": {
        "colab": {
          "base_uri": "https://localhost:8080/"
        },
        "id": "UQtXArR-Xl2o",
        "outputId": "0dc89874-4c48-4d50-f612-efe0bfc79433"
      },
      "execution_count": 10,
      "outputs": [
        {
          "output_type": "execute_result",
          "data": {
            "text/plain": [
              "array([[ True]])"
            ]
          },
          "metadata": {},
          "execution_count": 10
        }
      ]
    },
    {
      "cell_type": "code",
      "source": [
        "(orig_value + 1) == tf_function_value"
      ],
      "metadata": {
        "colab": {
          "base_uri": "https://localhost:8080/"
        },
        "id": "7bufBhZjXpqx",
        "outputId": "b10692be-9f75-4229-b13b-86674405e742"
      },
      "execution_count": 11,
      "outputs": [
        {
          "output_type": "execute_result",
          "data": {
            "text/plain": [
              "array([[False]])"
            ]
          },
          "metadata": {},
          "execution_count": 11
        }
      ]
    },
    {
      "cell_type": "code",
      "source": [
        "try:\n",
        "    assert((orig_value + 1) == tf_function_value)\n",
        "except Exception as e:\n",
        "    print(f'{type(e).__name__} : {e}')"
      ],
      "metadata": {
        "colab": {
          "base_uri": "https://localhost:8080/"
        },
        "id": "mi7CS-xIXu74",
        "outputId": "e0853a26-0e3e-4e00-b8cc-81b99f7355ac"
      },
      "execution_count": 12,
      "outputs": [
        {
          "output_type": "stream",
          "name": "stdout",
          "text": [
            "AssertionError : \n"
          ]
        }
      ]
    },
    {
      "cell_type": "markdown",
      "source": [
        "---\n",
        "---\n",
        "------\n",
        "---"
      ],
      "metadata": {
        "id": "HwJV8YPDYVEq"
      }
    },
    {
      "cell_type": "markdown",
      "metadata": {
        "id": "PNvuAYpdrTOf"
      },
      "source": [
        "On the outside, a `Function` looks like a regular function you write using TensorFlow operations. [Underneath](https://github.com/tensorflow/tensorflow/blob/master/tensorflow/python/eager/def_function.py), however, it is *very different*. A `Function` **encapsulates [several `tf.Graph`s behind one API](#polymorphism_one_function_many_graphs).** That is how `Function` is able to give you the [benefits of graph execution](#the_benefits_of_graphs), like speed and deployability."
      ]
    },
    {
      "cell_type": "markdown",
      "metadata": {
        "id": "MT7U8ozok0gV"
      },
      "source": [
        "`tf.function` applies to a function *and all other functions it calls*:"
      ]
    },
    {
      "cell_type": "code",
      "execution_count": 13,
      "metadata": {
        "id": "rpz08iLplm9F",
        "colab": {
          "base_uri": "https://localhost:8080/"
        },
        "outputId": "1a0bd216-c4d0-47d4-f129-c93b91409da9"
      },
      "outputs": [
        {
          "output_type": "execute_result",
          "data": {
            "text/plain": [
              "array([[12.]], dtype=float32)"
            ]
          },
          "metadata": {},
          "execution_count": 13
        }
      ],
      "source": [
        "def inner_function(x, y, b):\n",
        "  x = tf.matmul(x, y)\n",
        "  x = x + b\n",
        "  return x\n",
        "\n",
        "# Use the decorator to make `outer_function` a `Function`.\n",
        "@tf.function\n",
        "def outer_function(x):\n",
        "  y = tf.constant([[2.0], [3.0]])\n",
        "  b = tf.constant(4.0)\n",
        "\n",
        "  return inner_function(x, y, b)\n",
        "\n",
        "# Note that the callable will create a graph that\n",
        "# includes `inner_function` as well as `outer_function`.\n",
        "outer_function(tf.constant([[1.0, 2.0]])).numpy()"
      ]
    },
    {
      "cell_type": "markdown",
      "metadata": {
        "id": "P88fOr88qgCj"
      },
      "source": [
        "If you have used TensorFlow 1.x, you will notice that at no time did you need to define a `Placeholder` or `tf.Session`."
      ]
    },
    {
      "cell_type": "markdown",
      "metadata": {
        "id": "wfeKf0Nr1OEK"
      },
      "source": [
        "### Converting Python functions to graphs\n",
        "\n",
        "Any function you write with TensorFlow will contain a mixture of built-in TF operations and Python logic, such as `if-then` clauses, loops, `break`, `return`, `continue`, and more. While TensorFlow operations are easily captured by a `tf.Graph`, Python-specific logic needs to undergo an extra step in order to become part of the graph. `tf.function` uses a library called AutoGraph (`tf.autograph`) to convert Python code into graph-generating code.\n"
      ]
    },
    {
      "cell_type": "code",
      "execution_count": 14,
      "metadata": {
        "id": "PFObpff1BMEb",
        "colab": {
          "base_uri": "https://localhost:8080/"
        },
        "outputId": "fd99cea2-d150-4df1-ce40-d778ffd4a00a"
      },
      "outputs": [
        {
          "output_type": "stream",
          "name": "stdout",
          "text": [
            "First branch, with graph: 1\n",
            "Second branch, with graph: 0\n"
          ]
        }
      ],
      "source": [
        "def simple_relu(x):\n",
        "  if tf.greater(x, 0):\n",
        "    return x\n",
        "  else:\n",
        "    return 0\n",
        "\n",
        "# `tf_simple_relu` is a TensorFlow `Function` that wraps `simple_relu`.\n",
        "tf_simple_relu = tf.function(simple_relu)\n",
        "\n",
        "print(\"First branch, with graph:\", tf_simple_relu(tf.constant(1)).numpy())\n",
        "print(\"Second branch, with graph:\", tf_simple_relu(tf.constant(-1)).numpy())"
      ]
    },
    {
      "cell_type": "markdown",
      "source": [
        "##### exploration\n",
        "---\n",
        "---\n",
        "---\n",
        "---"
      ],
      "metadata": {
        "id": "YjZUwJiDa6hI"
      }
    },
    {
      "cell_type": "code",
      "source": [
        "tf.greater(1, 0)"
      ],
      "metadata": {
        "colab": {
          "base_uri": "https://localhost:8080/"
        },
        "id": "NyFsXC6Ea6jP",
        "outputId": "8978a722-4509-4b49-dabc-ab9ec81007f0"
      },
      "execution_count": 15,
      "outputs": [
        {
          "output_type": "execute_result",
          "data": {
            "text/plain": [
              "<tf.Tensor: shape=(), dtype=bool, numpy=True>"
            ]
          },
          "metadata": {},
          "execution_count": 15
        }
      ]
    },
    {
      "cell_type": "code",
      "source": [
        "tf.greater(tf.constant(2.0), 3)"
      ],
      "metadata": {
        "colab": {
          "base_uri": "https://localhost:8080/"
        },
        "id": "dx27H5bHbKhJ",
        "outputId": "290b332d-60f5-44f4-9b58-14e450de2d40"
      },
      "execution_count": 16,
      "outputs": [
        {
          "output_type": "execute_result",
          "data": {
            "text/plain": [
              "<tf.Tensor: shape=(), dtype=bool, numpy=False>"
            ]
          },
          "metadata": {},
          "execution_count": 16
        }
      ]
    },
    {
      "cell_type": "code",
      "source": [
        "tf_simple_relu"
      ],
      "metadata": {
        "colab": {
          "base_uri": "https://localhost:8080/"
        },
        "id": "hXWZuR-_bStL",
        "outputId": "794b54f0-4932-480b-95a3-9b6da7c73f03"
      },
      "execution_count": 17,
      "outputs": [
        {
          "output_type": "execute_result",
          "data": {
            "text/plain": [
              "<tensorflow.python.eager.def_function.Function at 0x7f49aa75d610>"
            ]
          },
          "metadata": {},
          "execution_count": 17
        }
      ]
    },
    {
      "cell_type": "code",
      "source": [
        "@tf.function\n",
        "def test_simple_relu(x):\n",
        "    if tf.greater(x, 0):\n",
        "        return x\n",
        "    else:\n",
        "        return 0\n",
        "\n",
        "test_simple_relu"
      ],
      "metadata": {
        "colab": {
          "base_uri": "https://localhost:8080/"
        },
        "id": "Mm_km-GkbVjy",
        "outputId": "77383a56-18ce-4df2-8f7a-db197bd62ec4"
      },
      "execution_count": 18,
      "outputs": [
        {
          "output_type": "execute_result",
          "data": {
            "text/plain": [
              "<tensorflow.python.eager.def_function.Function at 0x7f49aa7b52d0>"
            ]
          },
          "metadata": {},
          "execution_count": 18
        }
      ]
    },
    {
      "cell_type": "code",
      "source": [
        "tf.function(test_simple_relu)"
      ],
      "metadata": {
        "colab": {
          "base_uri": "https://localhost:8080/"
        },
        "id": "JQWkqhp8bkvG",
        "outputId": "bf39ef8b-3884-4fea-dca1-5f11014dd0c8"
      },
      "execution_count": 19,
      "outputs": [
        {
          "output_type": "execute_result",
          "data": {
            "text/plain": [
              "<tensorflow.python.eager.def_function.Function at 0x7f49aa7b5d10>"
            ]
          },
          "metadata": {},
          "execution_count": 19
        }
      ]
    },
    {
      "cell_type": "markdown",
      "source": [
        "---\n",
        "---\n",
        "---\n",
        "---"
      ],
      "metadata": {
        "id": "L5zxpSP4bop3"
      }
    },
    {
      "cell_type": "markdown",
      "metadata": {
        "id": "hO4DBUNZBMwQ"
      },
      "source": [
        "Though it is unlikely that you will need to view graphs directly, you can inspect the outputs to check the exact results. These are not easy to read, so no need to look too carefully!"
      ]
    },
    {
      "cell_type": "code",
      "execution_count": 20,
      "metadata": {
        "id": "lAKaat3w0gnn",
        "colab": {
          "base_uri": "https://localhost:8080/"
        },
        "outputId": "f4cf9d0a-8406-4b1e-cba4-753928e9d74c"
      },
      "outputs": [
        {
          "output_type": "stream",
          "name": "stdout",
          "text": [
            "def tf__simple_relu(x):\n",
            "    with ag__.FunctionScope('simple_relu', 'fscope', ag__.ConversionOptions(recursive=True, user_requested=True, optional_features=(), internal_convert_user_code=True)) as fscope:\n",
            "        do_return = False\n",
            "        retval_ = ag__.UndefinedReturnValue()\n",
            "\n",
            "        def get_state():\n",
            "            return (do_return, retval_)\n",
            "\n",
            "        def set_state(vars_):\n",
            "            nonlocal retval_, do_return\n",
            "            (do_return, retval_) = vars_\n",
            "\n",
            "        def if_body():\n",
            "            nonlocal retval_, do_return\n",
            "            try:\n",
            "                do_return = True\n",
            "                retval_ = ag__.ld(x)\n",
            "            except:\n",
            "                do_return = False\n",
            "                raise\n",
            "\n",
            "        def else_body():\n",
            "            nonlocal retval_, do_return\n",
            "            try:\n",
            "                do_return = True\n",
            "                retval_ = 0\n",
            "            except:\n",
            "                do_return = False\n",
            "                raise\n",
            "        ag__.if_stmt(ag__.converted_call(ag__.ld(tf).greater, (ag__.ld(x), 0), None, fscope), if_body, else_body, get_state, set_state, ('do_return', 'retval_'), 2)\n",
            "        return fscope.ret(retval_, do_return)\n",
            "\n"
          ]
        }
      ],
      "source": [
        "# This is the graph-generating output of AutoGraph.\n",
        "print(tf.autograph.to_code(simple_relu))"
      ]
    },
    {
      "cell_type": "code",
      "execution_count": 21,
      "metadata": {
        "id": "8x6RAqza1UWf",
        "colab": {
          "base_uri": "https://localhost:8080/"
        },
        "outputId": "543deb0f-4f15-4b53-b426-232e8bed92fe"
      },
      "outputs": [
        {
          "output_type": "stream",
          "name": "stdout",
          "text": [
            "node {\n",
            "  name: \"x\"\n",
            "  op: \"Placeholder\"\n",
            "  attr {\n",
            "    key: \"_user_specified_name\"\n",
            "    value {\n",
            "      s: \"x\"\n",
            "    }\n",
            "  }\n",
            "  attr {\n",
            "    key: \"dtype\"\n",
            "    value {\n",
            "      type: DT_INT32\n",
            "    }\n",
            "  }\n",
            "  attr {\n",
            "    key: \"shape\"\n",
            "    value {\n",
            "      shape {\n",
            "      }\n",
            "    }\n",
            "  }\n",
            "}\n",
            "node {\n",
            "  name: \"Greater/y\"\n",
            "  op: \"Const\"\n",
            "  attr {\n",
            "    key: \"dtype\"\n",
            "    value {\n",
            "      type: DT_INT32\n",
            "    }\n",
            "  }\n",
            "  attr {\n",
            "    key: \"value\"\n",
            "    value {\n",
            "      tensor {\n",
            "        dtype: DT_INT32\n",
            "        tensor_shape {\n",
            "        }\n",
            "        int_val: 0\n",
            "      }\n",
            "    }\n",
            "  }\n",
            "}\n",
            "node {\n",
            "  name: \"Greater\"\n",
            "  op: \"Greater\"\n",
            "  input: \"x\"\n",
            "  input: \"Greater/y\"\n",
            "  attr {\n",
            "    key: \"T\"\n",
            "    value {\n",
            "      type: DT_INT32\n",
            "    }\n",
            "  }\n",
            "}\n",
            "node {\n",
            "  name: \"cond\"\n",
            "  op: \"StatelessIf\"\n",
            "  input: \"Greater\"\n",
            "  input: \"x\"\n",
            "  attr {\n",
            "    key: \"Tcond\"\n",
            "    value {\n",
            "      type: DT_BOOL\n",
            "    }\n",
            "  }\n",
            "  attr {\n",
            "    key: \"Tin\"\n",
            "    value {\n",
            "      list {\n",
            "        type: DT_INT32\n",
            "      }\n",
            "    }\n",
            "  }\n",
            "  attr {\n",
            "    key: \"Tout\"\n",
            "    value {\n",
            "      list {\n",
            "        type: DT_BOOL\n",
            "        type: DT_INT32\n",
            "      }\n",
            "    }\n",
            "  }\n",
            "  attr {\n",
            "    key: \"_lower_using_switch_merge\"\n",
            "    value {\n",
            "      b: true\n",
            "    }\n",
            "  }\n",
            "  attr {\n",
            "    key: \"_read_only_resource_inputs\"\n",
            "    value {\n",
            "      list {\n",
            "      }\n",
            "    }\n",
            "  }\n",
            "  attr {\n",
            "    key: \"else_branch\"\n",
            "    value {\n",
            "      func {\n",
            "        name: \"cond_false_37\"\n",
            "      }\n",
            "    }\n",
            "  }\n",
            "  attr {\n",
            "    key: \"output_shapes\"\n",
            "    value {\n",
            "      list {\n",
            "        shape {\n",
            "        }\n",
            "        shape {\n",
            "        }\n",
            "      }\n",
            "    }\n",
            "  }\n",
            "  attr {\n",
            "    key: \"then_branch\"\n",
            "    value {\n",
            "      func {\n",
            "        name: \"cond_true_36\"\n",
            "      }\n",
            "    }\n",
            "  }\n",
            "}\n",
            "node {\n",
            "  name: \"cond/Identity\"\n",
            "  op: \"Identity\"\n",
            "  input: \"cond\"\n",
            "  attr {\n",
            "    key: \"T\"\n",
            "    value {\n",
            "      type: DT_BOOL\n",
            "    }\n",
            "  }\n",
            "}\n",
            "node {\n",
            "  name: \"cond/Identity_1\"\n",
            "  op: \"Identity\"\n",
            "  input: \"cond:1\"\n",
            "  attr {\n",
            "    key: \"T\"\n",
            "    value {\n",
            "      type: DT_INT32\n",
            "    }\n",
            "  }\n",
            "}\n",
            "node {\n",
            "  name: \"Identity\"\n",
            "  op: \"Identity\"\n",
            "  input: \"cond/Identity_1\"\n",
            "  attr {\n",
            "    key: \"T\"\n",
            "    value {\n",
            "      type: DT_INT32\n",
            "    }\n",
            "  }\n",
            "}\n",
            "library {\n",
            "  function {\n",
            "    signature {\n",
            "      name: \"cond_false_37\"\n",
            "      input_arg {\n",
            "        name: \"cond_placeholder\"\n",
            "        type: DT_INT32\n",
            "      }\n",
            "      output_arg {\n",
            "        name: \"cond_identity\"\n",
            "        type: DT_BOOL\n",
            "      }\n",
            "      output_arg {\n",
            "        name: \"cond_identity_1\"\n",
            "        type: DT_INT32\n",
            "      }\n",
            "    }\n",
            "    node_def {\n",
            "      name: \"cond/Const\"\n",
            "      op: \"Const\"\n",
            "      attr {\n",
            "        key: \"dtype\"\n",
            "        value {\n",
            "          type: DT_BOOL\n",
            "        }\n",
            "      }\n",
            "      attr {\n",
            "        key: \"value\"\n",
            "        value {\n",
            "          tensor {\n",
            "            dtype: DT_BOOL\n",
            "            tensor_shape {\n",
            "            }\n",
            "            bool_val: true\n",
            "          }\n",
            "        }\n",
            "      }\n",
            "    }\n",
            "    node_def {\n",
            "      name: \"cond/Const_1\"\n",
            "      op: \"Const\"\n",
            "      attr {\n",
            "        key: \"dtype\"\n",
            "        value {\n",
            "          type: DT_BOOL\n",
            "        }\n",
            "      }\n",
            "      attr {\n",
            "        key: \"value\"\n",
            "        value {\n",
            "          tensor {\n",
            "            dtype: DT_BOOL\n",
            "            tensor_shape {\n",
            "            }\n",
            "            bool_val: true\n",
            "          }\n",
            "        }\n",
            "      }\n",
            "    }\n",
            "    node_def {\n",
            "      name: \"cond/Const_2\"\n",
            "      op: \"Const\"\n",
            "      attr {\n",
            "        key: \"dtype\"\n",
            "        value {\n",
            "          type: DT_INT32\n",
            "        }\n",
            "      }\n",
            "      attr {\n",
            "        key: \"value\"\n",
            "        value {\n",
            "          tensor {\n",
            "            dtype: DT_INT32\n",
            "            tensor_shape {\n",
            "            }\n",
            "            int_val: 0\n",
            "          }\n",
            "        }\n",
            "      }\n",
            "    }\n",
            "    node_def {\n",
            "      name: \"cond/Const_3\"\n",
            "      op: \"Const\"\n",
            "      attr {\n",
            "        key: \"dtype\"\n",
            "        value {\n",
            "          type: DT_BOOL\n",
            "        }\n",
            "      }\n",
            "      attr {\n",
            "        key: \"value\"\n",
            "        value {\n",
            "          tensor {\n",
            "            dtype: DT_BOOL\n",
            "            tensor_shape {\n",
            "            }\n",
            "            bool_val: true\n",
            "          }\n",
            "        }\n",
            "      }\n",
            "    }\n",
            "    node_def {\n",
            "      name: \"cond/Identity\"\n",
            "      op: \"Identity\"\n",
            "      input: \"cond/Const_3:output:0\"\n",
            "      attr {\n",
            "        key: \"T\"\n",
            "        value {\n",
            "          type: DT_BOOL\n",
            "        }\n",
            "      }\n",
            "    }\n",
            "    node_def {\n",
            "      name: \"cond/Const_4\"\n",
            "      op: \"Const\"\n",
            "      attr {\n",
            "        key: \"dtype\"\n",
            "        value {\n",
            "          type: DT_INT32\n",
            "        }\n",
            "      }\n",
            "      attr {\n",
            "        key: \"value\"\n",
            "        value {\n",
            "          tensor {\n",
            "            dtype: DT_INT32\n",
            "            tensor_shape {\n",
            "            }\n",
            "            int_val: 0\n",
            "          }\n",
            "        }\n",
            "      }\n",
            "    }\n",
            "    node_def {\n",
            "      name: \"cond/Identity_1\"\n",
            "      op: \"Identity\"\n",
            "      input: \"cond/Const_4:output:0\"\n",
            "      attr {\n",
            "        key: \"T\"\n",
            "        value {\n",
            "          type: DT_INT32\n",
            "        }\n",
            "      }\n",
            "    }\n",
            "    ret {\n",
            "      key: \"cond_identity\"\n",
            "      value: \"cond/Identity:output:0\"\n",
            "    }\n",
            "    ret {\n",
            "      key: \"cond_identity_1\"\n",
            "      value: \"cond/Identity_1:output:0\"\n",
            "    }\n",
            "    attr {\n",
            "      key: \"_construction_context\"\n",
            "      value {\n",
            "        s: \"kEagerRuntime\"\n",
            "      }\n",
            "    }\n",
            "    arg_attr {\n",
            "      key: 0\n",
            "      value {\n",
            "        attr {\n",
            "          key: \"_output_shapes\"\n",
            "          value {\n",
            "            list {\n",
            "              shape {\n",
            "              }\n",
            "            }\n",
            "          }\n",
            "        }\n",
            "      }\n",
            "    }\n",
            "  }\n",
            "  function {\n",
            "    signature {\n",
            "      name: \"cond_true_36\"\n",
            "      input_arg {\n",
            "        name: \"cond_identity_1_x\"\n",
            "        type: DT_INT32\n",
            "      }\n",
            "      output_arg {\n",
            "        name: \"cond_identity\"\n",
            "        type: DT_BOOL\n",
            "      }\n",
            "      output_arg {\n",
            "        name: \"cond_identity_1\"\n",
            "        type: DT_INT32\n",
            "      }\n",
            "    }\n",
            "    node_def {\n",
            "      name: \"cond/Const\"\n",
            "      op: \"Const\"\n",
            "      attr {\n",
            "        key: \"dtype\"\n",
            "        value {\n",
            "          type: DT_BOOL\n",
            "        }\n",
            "      }\n",
            "      attr {\n",
            "        key: \"value\"\n",
            "        value {\n",
            "          tensor {\n",
            "            dtype: DT_BOOL\n",
            "            tensor_shape {\n",
            "            }\n",
            "            bool_val: true\n",
            "          }\n",
            "        }\n",
            "      }\n",
            "    }\n",
            "    node_def {\n",
            "      name: \"cond/Identity\"\n",
            "      op: \"Identity\"\n",
            "      input: \"cond/Const:output:0\"\n",
            "      attr {\n",
            "        key: \"T\"\n",
            "        value {\n",
            "          type: DT_BOOL\n",
            "        }\n",
            "      }\n",
            "    }\n",
            "    node_def {\n",
            "      name: \"cond/Identity_1\"\n",
            "      op: \"Identity\"\n",
            "      input: \"cond_identity_1_x\"\n",
            "      attr {\n",
            "        key: \"T\"\n",
            "        value {\n",
            "          type: DT_INT32\n",
            "        }\n",
            "      }\n",
            "    }\n",
            "    ret {\n",
            "      key: \"cond_identity\"\n",
            "      value: \"cond/Identity:output:0\"\n",
            "    }\n",
            "    ret {\n",
            "      key: \"cond_identity_1\"\n",
            "      value: \"cond/Identity_1:output:0\"\n",
            "    }\n",
            "    attr {\n",
            "      key: \"_construction_context\"\n",
            "      value {\n",
            "        s: \"kEagerRuntime\"\n",
            "      }\n",
            "    }\n",
            "    arg_attr {\n",
            "      key: 0\n",
            "      value {\n",
            "        attr {\n",
            "          key: \"_output_shapes\"\n",
            "          value {\n",
            "            list {\n",
            "              shape {\n",
            "              }\n",
            "            }\n",
            "          }\n",
            "        }\n",
            "      }\n",
            "    }\n",
            "  }\n",
            "}\n",
            "versions {\n",
            "  producer: 987\n",
            "  min_consumer: 12\n",
            "}\n",
            "\n"
          ]
        }
      ],
      "source": [
        "# This is the graph itself.\n",
        "print(tf_simple_relu.get_concrete_function(tf.constant(1)).graph.as_graph_def())"
      ]
    },
    {
      "cell_type": "markdown",
      "metadata": {
        "id": "GZ4Ieg6tBE6l"
      },
      "source": [
        "Most of the time, `tf.function` will work without  special considerations.  However, there are some caveats, and the [tf.function guide](./function.ipynb) can help here, as well as the [complete AutoGraph reference](https://github.com/tensorflow/tensorflow/blob/master/tensorflow/python/autograph/g3doc/reference/index.md)"
      ]
    },
    {
      "cell_type": "markdown",
      "metadata": {
        "id": "sIpc_jfjEZEg"
      },
      "source": [
        "### Polymorphism: one `Function`, many graphs\n",
        "\n",
        "A `tf.Graph` is specialized to a specific type of inputs (for example, tensors with a specific [`dtype`](https://www.tensorflow.org/api_docs/python/tf/dtypes/DType) or objects with the same [`id()`](https://docs.python.org/3/library/functions.html#id])).\n",
        "\n",
        "Each time you invoke a `Function` with new `dtypes` and shapes in its arguments, `Function` creates a new `tf.Graph` for the new arguments. The `dtypes` and shapes of a `tf.Graph`'s inputs are known as an **input signature** or just a **signature**.\n",
        "\n",
        "The `Function` stores the `tf.Graph` corresponding to that signature in a `ConcreteFunction`. **A `ConcreteFunction` is a wrapper around a `tf.Graph`.**\n"
      ]
    },
    {
      "cell_type": "code",
      "execution_count": 22,
      "metadata": {
        "id": "LOASwhbvIv_T",
        "colab": {
          "base_uri": "https://localhost:8080/"
        },
        "outputId": "dde29d3d-95d4-41b5-ec17-a06e854af8ef"
      },
      "outputs": [
        {
          "output_type": "stream",
          "name": "stdout",
          "text": [
            "tf.Tensor(5.5, shape=(), dtype=float32)\n",
            "tf.Tensor([1. 0.], shape=(2,), dtype=float32)\n",
            "tf.Tensor([3. 0.], shape=(2,), dtype=float32)\n"
          ]
        }
      ],
      "source": [
        "@tf.function\n",
        "def my_relu(x):\n",
        "  return tf.maximum(0., x)\n",
        "\n",
        "# `my_relu` creates new graphs as it observes more signatures.\n",
        "print(my_relu(tf.constant(5.5)))\n",
        "print(my_relu([1, -1]))\n",
        "print(my_relu(tf.constant([3., -3.])))"
      ]
    },
    {
      "cell_type": "markdown",
      "metadata": {
        "id": "1qRtw7R4KL9X"
      },
      "source": [
        "If the `Function` has already been called with that signature, `Function` does not create a new `tf.Graph`."
      ]
    },
    {
      "cell_type": "code",
      "execution_count": 23,
      "metadata": {
        "id": "TjjbnL5OKNDP",
        "colab": {
          "base_uri": "https://localhost:8080/"
        },
        "outputId": "0ead8490-acd9-4464-86dc-d9e0c547aa6b"
      },
      "outputs": [
        {
          "output_type": "stream",
          "name": "stdout",
          "text": [
            "tf.Tensor(0.0, shape=(), dtype=float32)\n",
            "tf.Tensor([0. 1.], shape=(2,), dtype=float32)\n"
          ]
        }
      ],
      "source": [
        "# These two calls do *not* create new graphs.\n",
        "print(my_relu(tf.constant(-2.5))) # Signature matches `tf.constant(5.5)`.\n",
        "print(my_relu(tf.constant([-1., 1.]))) # Signature matches `tf.constant([3., -3.])`."
      ]
    },
    {
      "cell_type": "markdown",
      "metadata": {
        "id": "UohRmexhIpvQ"
      },
      "source": [
        "Because it's backed by multiple graphs, a `Function` is **polymorphic**. That enables it to support more input types than a single `tf.Graph` could represent, as well as to optimize each `tf.Graph` for better performance."
      ]
    },
    {
      "cell_type": "code",
      "execution_count": 24,
      "metadata": {
        "id": "dxzqebDYFmLy",
        "colab": {
          "base_uri": "https://localhost:8080/"
        },
        "outputId": "24d6931b-5716-4ea2-a5a8-bc5585e5279c"
      },
      "outputs": [
        {
          "output_type": "stream",
          "name": "stdout",
          "text": [
            "my_relu(x)\n",
            "  Args:\n",
            "    x: float32 Tensor, shape=()\n",
            "  Returns:\n",
            "    float32 Tensor, shape=()\n",
            "\n",
            "my_relu(x=[1, -1])\n",
            "  Returns:\n",
            "    float32 Tensor, shape=(2,)\n",
            "\n",
            "my_relu(x)\n",
            "  Args:\n",
            "    x: float32 Tensor, shape=(2,)\n",
            "  Returns:\n",
            "    float32 Tensor, shape=(2,)\n"
          ]
        }
      ],
      "source": [
        "# There are three `ConcreteFunction`s (one for each graph) in `my_relu`.\n",
        "# The `ConcreteFunction` also knows the return type and shape!\n",
        "print(my_relu.pretty_printed_concrete_signatures())"
      ]
    },
    {
      "cell_type": "markdown",
      "metadata": {
        "id": "V11zkxU22XeD"
      },
      "source": [
        "## Using `tf.function`\n",
        "\n",
        "So far, you've learned how to convert a Python function into a graph simply by using `tf.function` as a decorator or wrapper. But in practice, getting `tf.function` to work correctly can be tricky! In the following sections, you'll learn how you can make your code work as expected with `tf.function`."
      ]
    },
    {
      "cell_type": "markdown",
      "metadata": {
        "id": "yp_n0B5-P0RU"
      },
      "source": [
        "### Graph execution vs. eager execution\n",
        "\n",
        "The code in a `Function` can be executed both eagerly and as a graph. By default, `Function` executes its code as a graph:\n"
      ]
    },
    {
      "cell_type": "code",
      "execution_count": 25,
      "metadata": {
        "id": "_R0BOvBFxqVZ"
      },
      "outputs": [],
      "source": [
        "@tf.function\n",
        "def get_MSE(y_true, y_pred):\n",
        "  sq_diff = tf.pow(y_true - y_pred, 2)\n",
        "  return tf.reduce_mean(sq_diff)"
      ]
    },
    {
      "cell_type": "code",
      "execution_count": 26,
      "metadata": {
        "id": "zikMVPGhmDET",
        "colab": {
          "base_uri": "https://localhost:8080/"
        },
        "outputId": "1df61c5c-93da-402a-bcce-d4f0b139e9e8"
      },
      "outputs": [
        {
          "output_type": "stream",
          "name": "stdout",
          "text": [
            "tf.Tensor([9 2 1 3 2], shape=(5,), dtype=int32)\n",
            "tf.Tensor([6 9 0 9 5], shape=(5,), dtype=int32)\n"
          ]
        }
      ],
      "source": [
        "y_true = tf.random.uniform([5], maxval=10, dtype=tf.int32)\n",
        "y_pred = tf.random.uniform([5], maxval=10, dtype=tf.int32)\n",
        "print(y_true)\n",
        "print(y_pred)"
      ]
    },
    {
      "cell_type": "code",
      "execution_count": 27,
      "metadata": {
        "id": "07r08Dh158ft",
        "colab": {
          "base_uri": "https://localhost:8080/"
        },
        "outputId": "d55ea9a2-05f6-4f29-b283-02feb29efd0d"
      },
      "outputs": [
        {
          "output_type": "execute_result",
          "data": {
            "text/plain": [
              "<tf.Tensor: shape=(), dtype=int32, numpy=20>"
            ]
          },
          "metadata": {},
          "execution_count": 27
        }
      ],
      "source": [
        "get_MSE(y_true, y_pred)"
      ]
    },
    {
      "cell_type": "markdown",
      "source": [
        "##### exploration\n",
        "---\n",
        "---\n",
        "---\n",
        "---"
      ],
      "metadata": {
        "id": "S5nLZ2ObFVN2"
      }
    },
    {
      "cell_type": "code",
      "source": [
        "tf.random.uniform([3, 2], maxval=1, minval=0, dtype=tf.float32)"
      ],
      "metadata": {
        "colab": {
          "base_uri": "https://localhost:8080/"
        },
        "id": "t1-k2IVkFU1C",
        "outputId": "dc692576-4550-4013-828b-9812b80402f4"
      },
      "execution_count": 28,
      "outputs": [
        {
          "output_type": "execute_result",
          "data": {
            "text/plain": [
              "<tf.Tensor: shape=(3, 2), dtype=float32, numpy=\n",
              "array([[0.44165587, 0.24370265],\n",
              "       [0.5820377 , 0.0583514 ],\n",
              "       [0.5864594 , 0.12036955]], dtype=float32)>"
            ]
          },
          "metadata": {},
          "execution_count": 28
        }
      ]
    },
    {
      "cell_type": "markdown",
      "source": [
        "---\n",
        "---\n",
        "---\n",
        "---"
      ],
      "metadata": {
        "id": "HK12EblpFg0Q"
      }
    },
    {
      "cell_type": "markdown",
      "metadata": {
        "id": "cyZNCRcQorGO"
      },
      "source": [
        "To verify that your `Function`'s graph is doing the same computation as its equivalent Python function, you can make it execute eagerly with `tf.config.run_functions_eagerly(True)`.  This is a switch that **turns off `Function`'s ability to create and run graphs**, instead executing the code normally."
      ]
    },
    {
      "cell_type": "code",
      "execution_count": 29,
      "metadata": {
        "id": "lKoF6NjPoI8w"
      },
      "outputs": [],
      "source": [
        "tf.config.run_functions_eagerly(True)"
      ]
    },
    {
      "cell_type": "code",
      "execution_count": 30,
      "metadata": {
        "id": "9ZLqTyn0oKeM",
        "colab": {
          "base_uri": "https://localhost:8080/"
        },
        "outputId": "9e85b855-bd5d-4927-ca51-5199f97fb43b"
      },
      "outputs": [
        {
          "output_type": "execute_result",
          "data": {
            "text/plain": [
              "<tf.Tensor: shape=(), dtype=int32, numpy=20>"
            ]
          },
          "metadata": {},
          "execution_count": 30
        }
      ],
      "source": [
        "get_MSE(y_true, y_pred)"
      ]
    },
    {
      "cell_type": "code",
      "execution_count": 31,
      "metadata": {
        "id": "cV7daQW9odn-"
      },
      "outputs": [],
      "source": [
        "# Don't forget to set it back when you are done.\n",
        "tf.config.run_functions_eagerly(False)"
      ]
    },
    {
      "cell_type": "markdown",
      "metadata": {
        "id": "DKT3YBsqy0x4"
      },
      "source": [
        "However, `Function` can behave differently under graph and eager execution. The Python [`print`](https://docs.python.org/3/library/functions.html#print) function is one example of how these two modes differ. Let's check out what happens when you insert a `print` statement to your function and call it repeatedly.\n"
      ]
    },
    {
      "cell_type": "code",
      "execution_count": 32,
      "metadata": {
        "id": "BEJeVeBEoGjV"
      },
      "outputs": [],
      "source": [
        "@tf.function\n",
        "def get_MSE(y_true, y_pred):\n",
        "  print(\"Calculating MSE!\")\n",
        "  sq_diff = tf.pow(y_true - y_pred, 2)\n",
        "  return tf.reduce_mean(sq_diff)"
      ]
    },
    {
      "cell_type": "markdown",
      "metadata": {
        "id": "3sWTGwX3BzP1"
      },
      "source": [
        "Observe what is printed:"
      ]
    },
    {
      "cell_type": "code",
      "execution_count": 33,
      "metadata": {
        "id": "3rJIeBg72T9n",
        "colab": {
          "base_uri": "https://localhost:8080/"
        },
        "outputId": "dc5d0f34-d7f6-4efa-a87f-809be31e671f"
      },
      "outputs": [
        {
          "output_type": "stream",
          "name": "stdout",
          "text": [
            "Calculating MSE!\n"
          ]
        }
      ],
      "source": [
        "error = get_MSE(y_true, y_pred)\n",
        "error = get_MSE(y_true, y_pred)\n",
        "error = get_MSE(y_true, y_pred)"
      ]
    },
    {
      "cell_type": "markdown",
      "metadata": {
        "id": "WLMXk1uxKQ44"
      },
      "source": [
        "Is the output surprising? **`get_MSE` only printed once even though it was called *three* times.**\n",
        "\n",
        "To explain, the `print` statement is executed when `Function` runs the original code in order to create the graph in a process known as [\"tracing\"](function.ipynb#tracing). **Tracing captures the TensorFlow operations into a graph, and `print`  is not captured in the graph.**  That graph is then executed for all three calls **without ever running the Python code again**.\n",
        "\n",
        "As a sanity check, let's turn off graph execution to compare:"
      ]
    },
    {
      "cell_type": "code",
      "execution_count": 34,
      "metadata": {
        "id": "oFSxRtcptYpe"
      },
      "outputs": [],
      "source": [
        "# Now, globally set everything to run eagerly to force eager execution.\n",
        "tf.config.run_functions_eagerly(True)"
      ]
    },
    {
      "cell_type": "code",
      "execution_count": 35,
      "metadata": {
        "id": "qYxrAtvzNgHR",
        "colab": {
          "base_uri": "https://localhost:8080/"
        },
        "outputId": "ec2f84c4-baff-47f6-b720-bc8ddbc50e13"
      },
      "outputs": [
        {
          "output_type": "stream",
          "name": "stdout",
          "text": [
            "Calculating MSE!\n",
            "Calculating MSE!\n",
            "Calculating MSE!\n"
          ]
        }
      ],
      "source": [
        "# Observe what is printed below.\n",
        "error = get_MSE(y_true, y_pred)\n",
        "error = get_MSE(y_true, y_pred)\n",
        "error = get_MSE(y_true, y_pred)"
      ]
    },
    {
      "cell_type": "code",
      "execution_count": 36,
      "metadata": {
        "id": "_Df6ynXcAaup"
      },
      "outputs": [],
      "source": [
        "tf.config.run_functions_eagerly(False)"
      ]
    },
    {
      "cell_type": "markdown",
      "metadata": {
        "id": "PUR7qC_bquCn"
      },
      "source": [
        "`print` is a *Python side effect*, and there are other differences that you should be aware of when converting a function into a `Function`. Learn more in the _Limitations_ section of the [Better performance with tf.function](./function.ipynb#limitations) guide."
      ]
    },
    {
      "cell_type": "markdown",
      "metadata": {
        "id": "oTZJfV_tccVp"
      },
      "source": [
        "Note: If you would like to print values in both eager and graph execution, use `tf.print` instead."
      ]
    },
    {
      "cell_type": "markdown",
      "metadata": {
        "id": "rMT_Xf5yKn9o"
      },
      "source": [
        "### Non-strict execution\n",
        "\n",
        "<a id=\"non-strict\"></a>\n",
        "\n",
        "Graph execution only executes the operations necessary to produce the observable effects, which includes:\n",
        "\n",
        "- The return value of the function\n",
        "- Documented well-known side-effects such as:\n",
        "  - Input/output operations, like `tf.print`\n",
        "  - Debugging operations, such as the assert functions in `tf.debugging`\n",
        "  - Mutations of `tf.Variable`\n",
        "\n",
        "This behavior is usually known as \"Non-strict execution\", and differs from eager execution, which steps through all of the program operations, needed or not.\n",
        "\n",
        "In particular, runtime error checking does not count as an observable effect. If an operation is skipped because it is unnecessary, it cannot raise any runtime errors.\n",
        "\n",
        "In the following example, the \"unnecessary\" operation `tf.gather` is skipped during graph execution, so the runtime error `InvalidArgumentError` is not raised as it would be in eager execution. Do not rely on an error being raised while executing a graph."
      ]
    },
    {
      "cell_type": "code",
      "execution_count": 37,
      "metadata": {
        "id": "OdN0nKlUwj7M",
        "colab": {
          "base_uri": "https://localhost:8080/"
        },
        "outputId": "af1f683a-fb19-4393-f083-843e65cd2d4e"
      },
      "outputs": [
        {
          "output_type": "stream",
          "name": "stdout",
          "text": [
            "InvalidArgumentError: indices[0] = 1 is not in [0, 1) [Op:GatherV2]\n"
          ]
        }
      ],
      "source": [
        "def unused_return_eager(x):\n",
        "  # Get index 1 will fail when `len(x) == 1`\n",
        "  tf.gather(x, [1]) # unused \n",
        "  return x\n",
        "\n",
        "try:\n",
        "  print(unused_return_eager(tf.constant([0.0])))\n",
        "except tf.errors.InvalidArgumentError as e:\n",
        "  # All operations are run during eager execution so an error is raised.\n",
        "  print(f'{type(e).__name__}: {e}')"
      ]
    },
    {
      "cell_type": "markdown",
      "source": [
        "##### exploration\n",
        "---\n",
        "---\n",
        "---\n",
        "---"
      ],
      "metadata": {
        "id": "ni7EMMfIXVSS"
      }
    },
    {
      "cell_type": "code",
      "source": [
        "tf.gather([1, 2, 2, 3], [1])"
      ],
      "metadata": {
        "colab": {
          "base_uri": "https://localhost:8080/"
        },
        "id": "TuIZtsmbXUqq",
        "outputId": "808cbd92-6556-41e0-c92d-b273c28f10c3"
      },
      "execution_count": 41,
      "outputs": [
        {
          "output_type": "execute_result",
          "data": {
            "text/plain": [
              "<tf.Tensor: shape=(1,), dtype=int32, numpy=array([2], dtype=int32)>"
            ]
          },
          "metadata": {},
          "execution_count": 41
        }
      ]
    },
    {
      "cell_type": "code",
      "source": [
        "tf.gather([0,1,2,3,4,5,6,7], 3)"
      ],
      "metadata": {
        "colab": {
          "base_uri": "https://localhost:8080/"
        },
        "id": "1J52edmVjkVm",
        "outputId": "b4198202-f937-417e-8d0a-7cfd00c67801"
      },
      "execution_count": 42,
      "outputs": [
        {
          "output_type": "execute_result",
          "data": {
            "text/plain": [
              "<tf.Tensor: shape=(), dtype=int32, numpy=3>"
            ]
          },
          "metadata": {},
          "execution_count": 42
        }
      ]
    },
    {
      "cell_type": "markdown",
      "source": [
        "---\n",
        "---\n",
        "---\n",
        "---"
      ],
      "metadata": {
        "id": "38PzrSQVjkzN"
      }
    },
    {
      "cell_type": "code",
      "execution_count": 44,
      "metadata": {
        "id": "d80Fob4MwhTs",
        "colab": {
          "base_uri": "https://localhost:8080/"
        },
        "outputId": "7b6a1cfe-c365-4ac6-fe7e-2508c7a5a3a0"
      },
      "outputs": [
        {
          "output_type": "stream",
          "name": "stdout",
          "text": [
            "tf.Tensor([0.], shape=(1,), dtype=float32)\n"
          ]
        }
      ],
      "source": [
        "@tf.function\n",
        "def unused_return_graph(x):\n",
        "  tf.gather(x, [1]) # unused\n",
        "  return x\n",
        "\n",
        "# Only needed operations are run during graph exection. The error is not raised.\n",
        "print(unused_return_graph(tf.constant([0.0])))"
      ]
    },
    {
      "cell_type": "markdown",
      "source": [
        "##### exploration\n",
        "---\n",
        "---\n",
        "---\n",
        "---"
      ],
      "metadata": {
        "id": "FRy2kAyLkncC"
      }
    },
    {
      "cell_type": "code",
      "source": [
        "unused_return_graph([0,1,2,3,4,5])"
      ],
      "metadata": {
        "colab": {
          "base_uri": "https://localhost:8080/"
        },
        "id": "pWRk-sLBkgyj",
        "outputId": "311aedd6-1a23-4001-de95-ddc812c7bc0b"
      },
      "execution_count": 45,
      "outputs": [
        {
          "output_type": "execute_result",
          "data": {
            "text/plain": [
              "[<tf.Tensor: shape=(), dtype=int32, numpy=0>,\n",
              " <tf.Tensor: shape=(), dtype=int32, numpy=1>,\n",
              " <tf.Tensor: shape=(), dtype=int32, numpy=2>,\n",
              " <tf.Tensor: shape=(), dtype=int32, numpy=3>,\n",
              " <tf.Tensor: shape=(), dtype=int32, numpy=4>,\n",
              " <tf.Tensor: shape=(), dtype=int32, numpy=5>]"
            ]
          },
          "metadata": {},
          "execution_count": 45
        }
      ]
    },
    {
      "cell_type": "markdown",
      "source": [
        "> - 에러는 안 뜨지만 사실 에러나 마찬가지다.\n",
        "> - 함수가 정의된대로 되지 않고 있다."
      ],
      "metadata": {
        "id": "4WpfjeWmkprj"
      }
    },
    {
      "cell_type": "markdown",
      "source": [
        "---\n",
        "---\n",
        "---\n",
        "---"
      ],
      "metadata": {
        "id": "r5ddWKu8kgPD"
      }
    },
    {
      "cell_type": "markdown",
      "metadata": {
        "id": "def6MupG9R0O"
      },
      "source": [
        "###`tf.function` best practices\n",
        "\n",
        "It may take some time to get used to the behavior of `Function`.  To get started quickly, first-time users should play around with decorating toy functions with `@tf.function` to get experience with going from eager to graph execution.\n",
        "\n",
        "*Designing for `tf.function`* may be your best bet for writing graph-compatible TensorFlow programs. Here are some tips:\n",
        "-  Toggle between eager and graph execution early and often with `tf.config.run_functions_eagerly` to pinpoint if/ when the two modes diverge.\n",
        "- Create `tf.Variable`s\n",
        "outside the Python function and modify them on the inside. The same goes for objects that use `tf.Variable`, like `keras.layers`, `keras.Model`s and `tf.optimizers`.\n",
        "- Avoid writing functions that [depend on outer Python variables](function#depending_on_python_global_and_free_variables), excluding `tf.Variable`s and Keras objects.\n",
        "- Prefer to write functions which take tensors and other TensorFlow types as input. You can pass in other object types but [be careful](function#depending_on_python_objects)!\n",
        "- Include as much computation as possible under a `tf.function` to maximize the performance gain. For example, decorate a whole training step or the entire training loop.\n"
      ]
    },
    {
      "cell_type": "markdown",
      "metadata": {
        "id": "ViM3oBJVJrDx"
      },
      "source": [
        "## Seeing the speed-up"
      ]
    },
    {
      "cell_type": "markdown",
      "metadata": {
        "id": "A6NHDp7vAKcJ"
      },
      "source": [
        "`tf.function` usually improves the performance of your code, but the amount of speed-up depends on the kind of computation you run. Small computations can be dominated by the overhead of calling a graph. You can measure the difference in performance like so:"
      ]
    },
    {
      "cell_type": "code",
      "execution_count": 47,
      "metadata": {
        "id": "jr7p1BBjauPK"
      },
      "outputs": [],
      "source": [
        "x = tf.random.uniform(shape=[10, 10], minval=-1, maxval=2, dtype=tf.dtypes.int32)\n",
        "\n",
        "def power(x, y):\n",
        "  result = tf.eye(10, dtype=tf.dtypes.int32)\n",
        "  for _ in range(y):\n",
        "    result = tf.matmul(x, result)\n",
        "  return result"
      ]
    },
    {
      "cell_type": "code",
      "execution_count": 48,
      "metadata": {
        "id": "ms2yJyAnUYxK",
        "colab": {
          "base_uri": "https://localhost:8080/"
        },
        "outputId": "d65c445e-af64-4f4a-80de-807e92c6a4f7"
      },
      "outputs": [
        {
          "output_type": "stream",
          "name": "stdout",
          "text": [
            "Eager execution: 6.318668952000735\n"
          ]
        }
      ],
      "source": [
        "print(\"Eager execution:\", timeit.timeit(lambda: power(x, 100), number=1000))"
      ]
    },
    {
      "cell_type": "code",
      "execution_count": 49,
      "metadata": {
        "id": "gUB2mTyRYRAe",
        "colab": {
          "base_uri": "https://localhost:8080/"
        },
        "outputId": "de1664c9-4a4b-48ae-e663-d68212213610"
      },
      "outputs": [
        {
          "output_type": "stream",
          "name": "stdout",
          "text": [
            "Graph execution: 0.915370836000875\n"
          ]
        }
      ],
      "source": [
        "power_as_graph = tf.function(power)\n",
        "print(\"Graph execution:\", timeit.timeit(lambda: power_as_graph(x, 100), number=1000))"
      ]
    },
    {
      "cell_type": "markdown",
      "source": [
        "##### exploration\n",
        "---\n",
        "---\n",
        "---\n",
        "---"
      ],
      "metadata": {
        "id": "qjMB_IU3sALX"
      }
    },
    {
      "cell_type": "code",
      "source": [
        "timeit.timeit(lambda: 1+1, number=1000)"
      ],
      "metadata": {
        "colab": {
          "base_uri": "https://localhost:8080/"
        },
        "id": "ZPEJ1CPdvcDp",
        "outputId": "7d5ea42e-0c8e-45b2-c4c9-e047633d23c4"
      },
      "execution_count": 63,
      "outputs": [
        {
          "output_type": "execute_result",
          "data": {
            "text/plain": [
              "0.00016838900046423078"
            ]
          },
          "metadata": {},
          "execution_count": 63
        }
      ]
    },
    {
      "cell_type": "code",
      "source": [
        "@tf.function\n",
        "def add():\n",
        "    return 1 + 1\n",
        "\n",
        "timeit.timeit(lambda: add(), number=1000)"
      ],
      "metadata": {
        "colab": {
          "base_uri": "https://localhost:8080/"
        },
        "id": "vqckbgDhwWnI",
        "outputId": "ff38fc18-0a9c-4321-dc1b-212f89a61759"
      },
      "execution_count": 64,
      "outputs": [
        {
          "output_type": "execute_result",
          "data": {
            "text/plain": [
              "0.7930735040008585"
            ]
          },
          "metadata": {},
          "execution_count": 64
        }
      ]
    },
    {
      "cell_type": "code",
      "source": [
        "@tf.function\n",
        "def add():\n",
        "    return tf.constant(1.0) + tf.constant(1.0)\n",
        "\n",
        "timeit.timeit(lambda: add(), number=1000)"
      ],
      "metadata": {
        "colab": {
          "base_uri": "https://localhost:8080/"
        },
        "id": "8bh0CDbIvkvA",
        "outputId": "092477cc-c010-4917-d470-f94052cb614b"
      },
      "execution_count": 65,
      "outputs": [
        {
          "output_type": "execute_result",
          "data": {
            "text/plain": [
              "0.4258775489997788"
            ]
          },
          "metadata": {},
          "execution_count": 65
        }
      ]
    },
    {
      "cell_type": "code",
      "source": [
        "x"
      ],
      "metadata": {
        "colab": {
          "base_uri": "https://localhost:8080/"
        },
        "id": "S-G8owHfsFcb",
        "outputId": "644d8636-b171-40be-9f4b-30e623580762"
      },
      "execution_count": 50,
      "outputs": [
        {
          "output_type": "execute_result",
          "data": {
            "text/plain": [
              "<tf.Tensor: shape=(10, 10), dtype=int32, numpy=\n",
              "array([[ 0,  1,  0,  0,  0,  0,  1, -1,  0,  0],\n",
              "       [ 1,  1,  1,  0,  1, -1,  0,  1, -1,  1],\n",
              "       [ 0,  1,  1,  1, -1, -1, -1,  1,  1,  0],\n",
              "       [ 1,  1, -1,  0,  0,  1,  1,  0,  1,  1],\n",
              "       [ 0,  1, -1,  0,  1, -1, -1,  1,  0, -1],\n",
              "       [ 1,  1,  1,  1,  0,  1,  1,  1,  1,  1],\n",
              "       [ 1,  1, -1,  1,  0, -1, -1,  1,  1,  0],\n",
              "       [ 1,  0, -1, -1,  0, -1,  1,  1,  0,  1],\n",
              "       [ 0,  0, -1,  1,  0, -1, -1,  1,  1,  1],\n",
              "       [ 1,  1,  0,  1,  1,  0,  1,  1, -1, -1]], dtype=int32)>"
            ]
          },
          "metadata": {},
          "execution_count": 50
        }
      ]
    },
    {
      "cell_type": "code",
      "source": [
        "tf.eye(10)"
      ],
      "metadata": {
        "colab": {
          "base_uri": "https://localhost:8080/"
        },
        "id": "jODNp64wsACm",
        "outputId": "34c8435d-cc84-419f-ef03-1e9d0ae86caa"
      },
      "execution_count": 51,
      "outputs": [
        {
          "output_type": "execute_result",
          "data": {
            "text/plain": [
              "<tf.Tensor: shape=(10, 10), dtype=float32, numpy=\n",
              "array([[1., 0., 0., 0., 0., 0., 0., 0., 0., 0.],\n",
              "       [0., 1., 0., 0., 0., 0., 0., 0., 0., 0.],\n",
              "       [0., 0., 1., 0., 0., 0., 0., 0., 0., 0.],\n",
              "       [0., 0., 0., 1., 0., 0., 0., 0., 0., 0.],\n",
              "       [0., 0., 0., 0., 1., 0., 0., 0., 0., 0.],\n",
              "       [0., 0., 0., 0., 0., 1., 0., 0., 0., 0.],\n",
              "       [0., 0., 0., 0., 0., 0., 1., 0., 0., 0.],\n",
              "       [0., 0., 0., 0., 0., 0., 0., 1., 0., 0.],\n",
              "       [0., 0., 0., 0., 0., 0., 0., 0., 1., 0.],\n",
              "       [0., 0., 0., 0., 0., 0., 0., 0., 0., 1.]], dtype=float32)>"
            ]
          },
          "metadata": {},
          "execution_count": 51
        }
      ]
    },
    {
      "cell_type": "code",
      "source": [
        "tf.matmul(x, tf.eye(10, dtype=tf.dtypes.int32))"
      ],
      "metadata": {
        "colab": {
          "base_uri": "https://localhost:8080/"
        },
        "id": "HJNYlI2br_w9",
        "outputId": "780c0879-d7fb-4864-bf37-a5196b65d753"
      },
      "execution_count": 53,
      "outputs": [
        {
          "output_type": "execute_result",
          "data": {
            "text/plain": [
              "<tf.Tensor: shape=(10, 10), dtype=int32, numpy=\n",
              "array([[ 0,  1,  0,  0,  0,  0,  1, -1,  0,  0],\n",
              "       [ 1,  1,  1,  0,  1, -1,  0,  1, -1,  1],\n",
              "       [ 0,  1,  1,  1, -1, -1, -1,  1,  1,  0],\n",
              "       [ 1,  1, -1,  0,  0,  1,  1,  0,  1,  1],\n",
              "       [ 0,  1, -1,  0,  1, -1, -1,  1,  0, -1],\n",
              "       [ 1,  1,  1,  1,  0,  1,  1,  1,  1,  1],\n",
              "       [ 1,  1, -1,  1,  0, -1, -1,  1,  1,  0],\n",
              "       [ 1,  0, -1, -1,  0, -1,  1,  1,  0,  1],\n",
              "       [ 0,  0, -1,  1,  0, -1, -1,  1,  1,  1],\n",
              "       [ 1,  1,  0,  1,  1,  0,  1,  1, -1, -1]], dtype=int32)>"
            ]
          },
          "metadata": {},
          "execution_count": 53
        }
      ]
    },
    {
      "cell_type": "code",
      "source": [
        "tf.matmul(tf.random.uniform((10, 10), minval=0, maxval=1, dtype=tf.float32), tf.eye(10))"
      ],
      "metadata": {
        "colab": {
          "base_uri": "https://localhost:8080/"
        },
        "id": "HQhQ-nK5t9RS",
        "outputId": "45d6de8e-4c46-484f-938e-8074f5b88944"
      },
      "execution_count": 55,
      "outputs": [
        {
          "output_type": "execute_result",
          "data": {
            "text/plain": [
              "<tf.Tensor: shape=(10, 10), dtype=float32, numpy=\n",
              "array([[0.56967366, 0.98156714, 0.3396454 , 0.14555788, 0.45602608,\n",
              "        0.69973457, 0.8740411 , 0.78878164, 0.45591307, 0.6968154 ],\n",
              "       [0.20818198, 0.60172856, 0.49106205, 0.7902293 , 0.3845017 ,\n",
              "        0.5557176 , 0.75240767, 0.29935074, 0.39802718, 0.4574474 ],\n",
              "       [0.669127  , 0.44405437, 0.60673845, 0.11939275, 0.8778738 ,\n",
              "        0.94140434, 0.81640553, 0.9299282 , 0.23150909, 0.8281574 ],\n",
              "       [0.7022097 , 0.81432605, 0.78182137, 0.4733765 , 0.6602967 ,\n",
              "        0.0945214 , 0.82166874, 0.23044407, 0.06287777, 0.25801837],\n",
              "       [0.2975055 , 0.63802457, 0.7785531 , 0.19094825, 0.3512416 ,\n",
              "        0.56622744, 0.111619  , 0.86024797, 0.61486757, 0.27941275],\n",
              "       [0.5429357 , 0.01648057, 0.22892725, 0.7049154 , 0.37828887,\n",
              "        0.28008497, 0.25537562, 0.76550436, 0.61826086, 0.7748233 ],\n",
              "       [0.7695725 , 0.26710904, 0.1817807 , 0.63776684, 0.2584015 ,\n",
              "        0.76287997, 0.32372534, 0.7974818 , 0.04369831, 0.34216726],\n",
              "       [0.62838924, 0.09973598, 0.18893802, 0.04327345, 0.7228962 ,\n",
              "        0.61859405, 0.73443484, 0.7697228 , 0.2664323 , 0.01130998],\n",
              "       [0.5744287 , 0.24338543, 0.8478433 , 0.51020646, 0.5973772 ,\n",
              "        0.25942242, 0.70209265, 0.23272705, 0.60705876, 0.88948107],\n",
              "       [0.95267475, 0.23788989, 0.6293913 , 0.8681092 , 0.8290882 ,\n",
              "        0.60078   , 0.37315333, 0.42423916, 0.5765958 , 0.5600643 ]],\n",
              "      dtype=float32)>"
            ]
          },
          "metadata": {},
          "execution_count": 55
        }
      ]
    },
    {
      "cell_type": "code",
      "source": [
        "try:\n",
        "    tf.matmul(x, tf.eye(10))\n",
        "except Exception as e:\n",
        "    print(f\"{type(e).__name__} : {e}\")"
      ],
      "metadata": {
        "colab": {
          "base_uri": "https://localhost:8080/"
        },
        "id": "NG2jwYD1uOeh",
        "outputId": "fc5e0d04-89d1-44cf-9d27-5fc7a58ece61"
      },
      "execution_count": 57,
      "outputs": [
        {
          "output_type": "stream",
          "name": "stdout",
          "text": [
            "InvalidArgumentError : cannot compute MatMul as input #1(zero-based) was expected to be a int32 tensor but is a float tensor [Op:MatMul]\n"
          ]
        }
      ]
    },
    {
      "cell_type": "code",
      "source": [
        "try:\n",
        "    tf.matmul(tf.eye(10), x)\n",
        "except Exception as e:\n",
        "    print(f\"{type(e).__name__} : {e}\")"
      ],
      "metadata": {
        "colab": {
          "base_uri": "https://localhost:8080/"
        },
        "id": "UrN7okndu1WP",
        "outputId": "978e5dc2-d766-4f48-d516-005be1bbc655"
      },
      "execution_count": 58,
      "outputs": [
        {
          "output_type": "stream",
          "name": "stdout",
          "text": [
            "InvalidArgumentError : cannot compute MatMul as input #1(zero-based) was expected to be a float tensor but is a int32 tensor [Op:MatMul]\n"
          ]
        }
      ]
    },
    {
      "cell_type": "markdown",
      "source": [
        "> - 텐서끼리 계산할 대는 자료형이 같아야 하나보다."
      ],
      "metadata": {
        "id": "Xnh5Hu9juxu3"
      }
    },
    {
      "cell_type": "markdown",
      "source": [
        "---\n",
        "---\n",
        "---\n",
        "---"
      ],
      "metadata": {
        "id": "4jTfx3wdsEKv"
      }
    },
    {
      "cell_type": "markdown",
      "metadata": {
        "id": "Q1Pfo5YwwILi"
      },
      "source": [
        "`tf.function` is commonly used to speed up training loops, and you can learn more about it in [Writing a training loop from scratch](https://www.tensorflow.org/guide/keras/writing_a_training_loop_from_scratch#speeding-up_your_training_step_with_tffunction) with Keras.\n",
        "\n",
        "Note: You can also try [`tf.function(jit_compile=True)`](https://www.tensorflow.org/xla#explicit_compilation_with_tffunctionjit_compiletrue) for a more significant performance boost, especially if your code is heavy on TF control flow and uses many small tensors."
      ]
    },
    {
      "cell_type": "markdown",
      "metadata": {
        "id": "sm0bNFp8PX53"
      },
      "source": [
        "### Performance and trade-offs\n",
        "\n",
        "Graphs can speed up your code, but the process of creating them has some overhead. For some functions, the creation of the graph takes more time than the execution of the graph. **This investment is usually quickly paid back with the performance boost of subsequent executions, but it's important to be aware that the first few  steps of any large model training can be slower due to tracing.**\n",
        "\n",
        "No matter how large your model, you want to avoid tracing frequently. The `tf.function` guide discusses [how to set input specifications and use tensor arguments](function#controlling_retracing) to avoid retracing.  If you find you are getting unusually poor performance, it's a good idea to check if you are retracing accidentally."
      ]
    },
    {
      "cell_type": "markdown",
      "metadata": {
        "id": "F4InDaTjwmBA"
      },
      "source": [
        "## When is a `Function` tracing?\n",
        "\n",
        "To figure out when your `Function` is tracing, add a `print` statement to its code. As a rule of thumb, `Function` will execute the `print` statement every time it traces."
      ]
    },
    {
      "cell_type": "code",
      "execution_count": 66,
      "metadata": {
        "id": "hXtwlbpofLgW",
        "colab": {
          "base_uri": "https://localhost:8080/"
        },
        "outputId": "2d4b3bf7-d608-4fd7-9621-bda6feb91479"
      },
      "outputs": [
        {
          "output_type": "stream",
          "name": "stdout",
          "text": [
            "Tracing!\n",
            "tf.Tensor(6, shape=(), dtype=int32)\n",
            "tf.Tensor(11, shape=(), dtype=int32)\n"
          ]
        }
      ],
      "source": [
        "@tf.function\n",
        "def a_function_with_python_side_effect(x):\n",
        "  print(\"Tracing!\") # An eager-only side effect.\n",
        "  return x * x + tf.constant(2)\n",
        "\n",
        "# This is traced the first time.\n",
        "print(a_function_with_python_side_effect(tf.constant(2)))\n",
        "# The second time through, you won't see the side effect.\n",
        "print(a_function_with_python_side_effect(tf.constant(3)))"
      ]
    },
    {
      "cell_type": "code",
      "execution_count": 67,
      "metadata": {
        "id": "inzSg8yzfNjl",
        "colab": {
          "base_uri": "https://localhost:8080/"
        },
        "outputId": "6efd9561-47cd-4b38-f8b5-29c584efa9de"
      },
      "outputs": [
        {
          "output_type": "stream",
          "name": "stdout",
          "text": [
            "Tracing!\n",
            "tf.Tensor(6, shape=(), dtype=int32)\n",
            "Tracing!\n",
            "tf.Tensor(11, shape=(), dtype=int32)\n"
          ]
        }
      ],
      "source": [
        "# This retraces each time the Python argument changes,\n",
        "# as a Python argument could be an epoch count or other\n",
        "# hyperparameter.\n",
        "print(a_function_with_python_side_effect(2))\n",
        "print(a_function_with_python_side_effect(3))"
      ]
    },
    {
      "cell_type": "markdown",
      "metadata": {
        "id": "rtN8NW6AfKye"
      },
      "source": [
        "New Python arguments always trigger the creation of a new graph, hence the extra tracing.\n"
      ]
    },
    {
      "cell_type": "markdown",
      "metadata": {
        "id": "D1kbr5ocpS6R"
      },
      "source": [
        "## Next steps\n",
        "\n",
        "You can learn more about `tf.function` on the API reference page and by following the [Better performance with `tf.function`](function.ipynb) guide."
      ]
    }
  ],
  "metadata": {
    "colab": {
      "collapsed_sections": [],
      "name": "guide_04_intro_to_graphs.ipynb",
      "provenance": [],
      "include_colab_link": true
    },
    "kernelspec": {
      "display_name": "Python 3",
      "name": "python3"
    }
  },
  "nbformat": 4,
  "nbformat_minor": 0
}